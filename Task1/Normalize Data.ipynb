{
 "cells": [
  {
   "cell_type": "markdown",
   "metadata": {},
   "source": [
    "# Normalize a dataset and find out the Dissimilarity matrix"
   ]
  },
  {
   "cell_type": "markdown",
   "metadata": {},
   "source": [
    "## Numerical data"
   ]
  },
  {
   "cell_type": "code",
   "execution_count": 1,
   "metadata": {},
   "outputs": [],
   "source": [
    "import pandas as pd\n",
    "import numpy as np"
   ]
  },
  {
   "cell_type": "code",
   "execution_count": 2,
   "metadata": {},
   "outputs": [],
   "source": [
    "# creating an array of random integers\n",
    "f1 = np.random.randint(low = 0, high = 100, size = 4)\n",
    "f2 = np.random.randint(low = 30, high = 1000, size = 4)\n",
    "f3 = np.random.randint(low = 50, high = 10000, size = 4)\n",
    "f4 = np.random.randint(low = 100, high = 10000000, size = 4)\n",
    "\n",
    "# creating a dataframe from the arrays\n",
    "data = pd.DataFrame({\"f1\":f1, \"f2\":f2, \"f3\":f3, \"f4\":f4})"
   ]
  },
  {
   "cell_type": "code",
   "execution_count": 3,
   "metadata": {},
   "outputs": [
    {
     "data": {
      "text/html": [
       "<div>\n",
       "<style scoped>\n",
       "    .dataframe tbody tr th:only-of-type {\n",
       "        vertical-align: middle;\n",
       "    }\n",
       "\n",
       "    .dataframe tbody tr th {\n",
       "        vertical-align: top;\n",
       "    }\n",
       "\n",
       "    .dataframe thead th {\n",
       "        text-align: right;\n",
       "    }\n",
       "</style>\n",
       "<table border=\"1\" class=\"dataframe\">\n",
       "  <thead>\n",
       "    <tr style=\"text-align: right;\">\n",
       "      <th></th>\n",
       "      <th>f1</th>\n",
       "      <th>f2</th>\n",
       "      <th>f3</th>\n",
       "      <th>f4</th>\n",
       "    </tr>\n",
       "  </thead>\n",
       "  <tbody>\n",
       "    <tr>\n",
       "      <th>0</th>\n",
       "      <td>46</td>\n",
       "      <td>196</td>\n",
       "      <td>3270</td>\n",
       "      <td>8709077</td>\n",
       "    </tr>\n",
       "    <tr>\n",
       "      <th>1</th>\n",
       "      <td>60</td>\n",
       "      <td>97</td>\n",
       "      <td>3350</td>\n",
       "      <td>5980393</td>\n",
       "    </tr>\n",
       "    <tr>\n",
       "      <th>2</th>\n",
       "      <td>45</td>\n",
       "      <td>960</td>\n",
       "      <td>1796</td>\n",
       "      <td>4341810</td>\n",
       "    </tr>\n",
       "    <tr>\n",
       "      <th>3</th>\n",
       "      <td>84</td>\n",
       "      <td>574</td>\n",
       "      <td>1127</td>\n",
       "      <td>4072911</td>\n",
       "    </tr>\n",
       "  </tbody>\n",
       "</table>\n",
       "</div>"
      ],
      "text/plain": [
       "   f1   f2    f3       f4\n",
       "0  46  196  3270  8709077\n",
       "1  60   97  3350  5980393\n",
       "2  45  960  1796  4341810\n",
       "3  84  574  1127  4072911"
      ]
     },
     "execution_count": 3,
     "metadata": {},
     "output_type": "execute_result"
    }
   ],
   "source": [
    "data"
   ]
  },
  {
   "cell_type": "markdown",
   "metadata": {},
   "source": [
    "We can consider *f1*, *f2*, *f3*, *f4* as features"
   ]
  },
  {
   "cell_type": "code",
   "execution_count": 4,
   "metadata": {},
   "outputs": [],
   "source": [
    "# function to find the z-score\n",
    "def z_score(data):\n",
    "    data_z_score = pd.DataFrame()\n",
    "    data_z_score = data.copy()\n",
    "    for f in range(len(data)):\n",
    "        sum = 0\n",
    "        for i in range(len(data)):\n",
    "            sum += data.iloc[i][f]\n",
    "        mean = (sum / len(data))\n",
    "        \n",
    "        # mean absolute deviation\n",
    "        mad = 0\n",
    "        for i in range(len(data)):\n",
    "            mad += abs(data.iloc[i][f] - mean)\n",
    "        \n",
    "        mad /= len(data)\n",
    "        \n",
    "        # z-score\n",
    "        for i in range(len(data)):\n",
    "            data_z_score.iloc[i][f] = (data.iloc[i][f] - mean) / mad\n",
    "    \n",
    "    return data_z_score\n",
    "    \n",
    "data_z_score = z_score(data)"
   ]
  },
  {
   "cell_type": "code",
   "execution_count": 5,
   "metadata": {},
   "outputs": [
    {
     "data": {
      "text/html": [
       "<div>\n",
       "<style scoped>\n",
       "    .dataframe tbody tr th:only-of-type {\n",
       "        vertical-align: middle;\n",
       "    }\n",
       "\n",
       "    .dataframe tbody tr th {\n",
       "        vertical-align: top;\n",
       "    }\n",
       "\n",
       "    .dataframe thead th {\n",
       "        text-align: right;\n",
       "    }\n",
       "</style>\n",
       "<table border=\"1\" class=\"dataframe\">\n",
       "  <thead>\n",
       "    <tr style=\"text-align: right;\">\n",
       "      <th></th>\n",
       "      <th>f1</th>\n",
       "      <th>f2</th>\n",
       "      <th>f3</th>\n",
       "      <th>f4</th>\n",
       "    </tr>\n",
       "  </thead>\n",
       "  <tbody>\n",
       "    <tr>\n",
       "      <th>0</th>\n",
       "      <td>0</td>\n",
       "      <td>0</td>\n",
       "      <td>0</td>\n",
       "      <td>1</td>\n",
       "    </tr>\n",
       "    <tr>\n",
       "      <th>1</th>\n",
       "      <td>0</td>\n",
       "      <td>-1</td>\n",
       "      <td>1</td>\n",
       "      <td>0</td>\n",
       "    </tr>\n",
       "    <tr>\n",
       "      <th>2</th>\n",
       "      <td>-1</td>\n",
       "      <td>1</td>\n",
       "      <td>0</td>\n",
       "      <td>0</td>\n",
       "    </tr>\n",
       "    <tr>\n",
       "      <th>3</th>\n",
       "      <td>1</td>\n",
       "      <td>0</td>\n",
       "      <td>-1</td>\n",
       "      <td>-1</td>\n",
       "    </tr>\n",
       "  </tbody>\n",
       "</table>\n",
       "</div>"
      ],
      "text/plain": [
       "   f1  f2  f3  f4\n",
       "0   0   0   0   1\n",
       "1   0  -1   1   0\n",
       "2  -1   1   0   0\n",
       "3   1   0  -1  -1"
      ]
     },
     "execution_count": 5,
     "metadata": {},
     "output_type": "execute_result"
    }
   ],
   "source": [
    "data_z_score"
   ]
  },
  {
   "cell_type": "code",
   "execution_count": 9,
   "metadata": {},
   "outputs": [],
   "source": [
    "def euclidean_distance(x, y):\n",
    "    distance = 0\n",
    "    for i in range(len(x)):\n",
    "        distance += (x[i] - y[i])**2\n",
    "    \n",
    "    return np.sqrt(distance)"
   ]
  },
  {
   "cell_type": "markdown",
   "metadata": {},
   "source": [
    "We are required to find the **dissimilarity matrix** from the above matrix of *z-scores*"
   ]
  },
  {
   "cell_type": "code",
   "execution_count": 41,
   "metadata": {},
   "outputs": [
    {
     "name": "stdout",
     "output_type": "stream",
     "text": [
      "[[0.         1.73205081 1.73205081 2.44948974]\n",
      " [1.73205081 0.         2.44948974 2.64575131]\n",
      " [1.73205081 2.44948974 0.         2.64575131]\n",
      " [2.44948974 2.64575131 2.64575131 0.        ]]\n"
     ]
    }
   ],
   "source": [
    "dissimilarity_matrix = np.zeros((4,4)) # creates a 2D numpy array of shape (4,4) having all values as 0\n",
    "for f in range(len(data_z_score)):\n",
    "    for i in range(len(data_z_score)):\n",
    "        dissimilarity_matrix[i][f] = euclidean_distance(data_z_score.iloc[i].values, data_z_score.iloc[f].values)\n",
    "\n",
    "print(dissimilarity_matrix)"
   ]
  },
  {
   "cell_type": "code",
   "execution_count": null,
   "metadata": {},
   "outputs": [],
   "source": []
  },
  {
   "cell_type": "code",
   "execution_count": null,
   "metadata": {},
   "outputs": [],
   "source": []
  },
  {
   "cell_type": "markdown",
   "metadata": {},
   "source": [
    "## Nominal Data"
   ]
  },
  {
   "cell_type": "code",
   "execution_count": 42,
   "metadata": {},
   "outputs": [],
   "source": [
    "# nominal features\n",
    "hair_color = ['Black', 'Gray', 'Gray', \"Blue\"]\n",
    "emp_status = ['Employed', 'Unemployed', 'Employed', 'Retired']\n",
    "dress_color = ['blue', 'black', 'black', 'gray']\n",
    "gender = ['Male', 'Female', 'Female', 'Male']\n",
    "\n",
    "nominal_df = pd.DataFrame({'hair_color':hair_color, 'emp_status':emp_status,\n",
    "                           'dress_color':dress_color, 'gender':gender})"
   ]
  },
  {
   "cell_type": "code",
   "execution_count": 43,
   "metadata": {},
   "outputs": [
    {
     "data": {
      "text/html": [
       "<div>\n",
       "<style scoped>\n",
       "    .dataframe tbody tr th:only-of-type {\n",
       "        vertical-align: middle;\n",
       "    }\n",
       "\n",
       "    .dataframe tbody tr th {\n",
       "        vertical-align: top;\n",
       "    }\n",
       "\n",
       "    .dataframe thead th {\n",
       "        text-align: right;\n",
       "    }\n",
       "</style>\n",
       "<table border=\"1\" class=\"dataframe\">\n",
       "  <thead>\n",
       "    <tr style=\"text-align: right;\">\n",
       "      <th></th>\n",
       "      <th>hair_color</th>\n",
       "      <th>emp_status</th>\n",
       "      <th>dress_color</th>\n",
       "      <th>gender</th>\n",
       "    </tr>\n",
       "  </thead>\n",
       "  <tbody>\n",
       "    <tr>\n",
       "      <th>0</th>\n",
       "      <td>Black</td>\n",
       "      <td>Employed</td>\n",
       "      <td>blue</td>\n",
       "      <td>Male</td>\n",
       "    </tr>\n",
       "    <tr>\n",
       "      <th>1</th>\n",
       "      <td>Gray</td>\n",
       "      <td>Employed</td>\n",
       "      <td>black</td>\n",
       "      <td>Female</td>\n",
       "    </tr>\n",
       "    <tr>\n",
       "      <th>2</th>\n",
       "      <td>Gray</td>\n",
       "      <td>Employed</td>\n",
       "      <td>black</td>\n",
       "      <td>Female</td>\n",
       "    </tr>\n",
       "    <tr>\n",
       "      <th>3</th>\n",
       "      <td>Blue</td>\n",
       "      <td>Retired</td>\n",
       "      <td>gray</td>\n",
       "      <td>Male</td>\n",
       "    </tr>\n",
       "  </tbody>\n",
       "</table>\n",
       "</div>"
      ],
      "text/plain": [
       "  hair_color emp_status dress_color  gender\n",
       "0      Black   Employed        blue    Male\n",
       "1       Gray   Employed       black  Female\n",
       "2       Gray   Employed       black  Female\n",
       "3       Blue    Retired        gray    Male"
      ]
     },
     "execution_count": 43,
     "metadata": {},
     "output_type": "execute_result"
    }
   ],
   "source": [
    "nominal_df"
   ]
  },
  {
   "cell_type": "code",
   "execution_count": 51,
   "metadata": {},
   "outputs": [],
   "source": [
    "def num_of_matches(obj1, obj2):\n",
    "    matches = 0\n",
    "    for col in range(len(nominal_df.columns)):\n",
    "        if obj1[col] == obj2[col]:\n",
    "            matches += 1\n",
    "    return matches"
   ]
  },
  {
   "cell_type": "code",
   "execution_count": 55,
   "metadata": {},
   "outputs": [],
   "source": [
    "def dissimilarity_matrix(nominal_df):\n",
    "    p = len(nominal_df.columns) # total number of features\n",
    "    dissimilarity_matrix = [[0 for _ in range(len(nominal_df))] for _ in range(len(nominal_df))]\n",
    "    for col in range(len(nominal_df.columns)):\n",
    "        for row in range(len(nominal_df)):\n",
    "            dissimilarity_matrix[row][col] = (p - num_of_matches(nominal_df.iloc[row], nominal_df.iloc[col])) / p\n",
    "            \n",
    "    return dissimilarity_matrix"
   ]
  },
  {
   "cell_type": "code",
   "execution_count": 56,
   "metadata": {},
   "outputs": [
    {
     "data": {
      "text/plain": [
       "[[0.0, 0.75, 0.75, 0.75],\n",
       " [0.75, 0.0, 0.0, 1.0],\n",
       " [0.75, 0.0, 0.0, 1.0],\n",
       " [0.75, 1.0, 1.0, 0.0]]"
      ]
     },
     "execution_count": 56,
     "metadata": {},
     "output_type": "execute_result"
    }
   ],
   "source": [
    "dissimilarity_matrix(nominal_df)"
   ]
  },
  {
   "cell_type": "code",
   "execution_count": null,
   "metadata": {},
   "outputs": [],
   "source": []
  },
  {
   "cell_type": "code",
   "execution_count": null,
   "metadata": {},
   "outputs": [],
   "source": []
  },
  {
   "cell_type": "markdown",
   "metadata": {},
   "source": [
    "## Ordinal Data"
   ]
  },
  {
   "cell_type": "code",
   "execution_count": 2,
   "metadata": {},
   "outputs": [],
   "source": [
    "# ordinal features\n",
    "f1 = [\"High\", \"Low\", \"Medium\", \"High\"]\n",
    "f2 = [\"Excellent\", \"Fair\", \"Good\", \"Excellent\"]\n",
    "f3 = [3, 1, 2, 4]\n",
    "f4 = [\"Small\", \"Large\", \"Small\", \"Medium\"]\n",
    "\n",
    "ordinal_df = pd.DataFrame({'f1':f1, 'f2':f2, 'f3':f3, 'f4':f4})"
   ]
  },
  {
   "cell_type": "code",
   "execution_count": 3,
   "metadata": {},
   "outputs": [
    {
     "data": {
      "text/html": [
       "<div>\n",
       "<style scoped>\n",
       "    .dataframe tbody tr th:only-of-type {\n",
       "        vertical-align: middle;\n",
       "    }\n",
       "\n",
       "    .dataframe tbody tr th {\n",
       "        vertical-align: top;\n",
       "    }\n",
       "\n",
       "    .dataframe thead th {\n",
       "        text-align: right;\n",
       "    }\n",
       "</style>\n",
       "<table border=\"1\" class=\"dataframe\">\n",
       "  <thead>\n",
       "    <tr style=\"text-align: right;\">\n",
       "      <th></th>\n",
       "      <th>f1</th>\n",
       "      <th>f2</th>\n",
       "      <th>f3</th>\n",
       "      <th>f4</th>\n",
       "    </tr>\n",
       "  </thead>\n",
       "  <tbody>\n",
       "    <tr>\n",
       "      <th>0</th>\n",
       "      <td>High</td>\n",
       "      <td>Excellent</td>\n",
       "      <td>3</td>\n",
       "      <td>Small</td>\n",
       "    </tr>\n",
       "    <tr>\n",
       "      <th>1</th>\n",
       "      <td>Low</td>\n",
       "      <td>Fair</td>\n",
       "      <td>1</td>\n",
       "      <td>Large</td>\n",
       "    </tr>\n",
       "    <tr>\n",
       "      <th>2</th>\n",
       "      <td>Medium</td>\n",
       "      <td>Good</td>\n",
       "      <td>2</td>\n",
       "      <td>Small</td>\n",
       "    </tr>\n",
       "    <tr>\n",
       "      <th>3</th>\n",
       "      <td>High</td>\n",
       "      <td>Excellent</td>\n",
       "      <td>4</td>\n",
       "      <td>Medium</td>\n",
       "    </tr>\n",
       "  </tbody>\n",
       "</table>\n",
       "</div>"
      ],
      "text/plain": [
       "       f1         f2  f3      f4\n",
       "0    High  Excellent   3   Small\n",
       "1     Low       Fair   1   Large\n",
       "2  Medium       Good   2   Small\n",
       "3    High  Excellent   4  Medium"
      ]
     },
     "execution_count": 3,
     "metadata": {},
     "output_type": "execute_result"
    }
   ],
   "source": [
    "ordinal_df"
   ]
  },
  {
   "cell_type": "code",
   "execution_count": 4,
   "metadata": {},
   "outputs": [],
   "source": [
    "# function to assign ranks to feature values\n",
    "def assign_ranks(feature):\n",
    "    unique_states = sorted(set(feature))\n",
    "    state_to_rank = {state : rank + 1 for rank, state in enumerate(unique_states)}\n",
    "    return [state_to_rank[state] for state in feature]\n",
    "\n",
    "# applying the function to each feature in ordinal_df\n",
    "for feature in ordinal_df.columns.values:\n",
    "    ordinal_df[feature] = assign_ranks(ordinal_df[feature])"
   ]
  },
  {
   "cell_type": "code",
   "execution_count": 5,
   "metadata": {},
   "outputs": [
    {
     "data": {
      "text/html": [
       "<div>\n",
       "<style scoped>\n",
       "    .dataframe tbody tr th:only-of-type {\n",
       "        vertical-align: middle;\n",
       "    }\n",
       "\n",
       "    .dataframe tbody tr th {\n",
       "        vertical-align: top;\n",
       "    }\n",
       "\n",
       "    .dataframe thead th {\n",
       "        text-align: right;\n",
       "    }\n",
       "</style>\n",
       "<table border=\"1\" class=\"dataframe\">\n",
       "  <thead>\n",
       "    <tr style=\"text-align: right;\">\n",
       "      <th></th>\n",
       "      <th>f1</th>\n",
       "      <th>f2</th>\n",
       "      <th>f3</th>\n",
       "      <th>f4</th>\n",
       "    </tr>\n",
       "  </thead>\n",
       "  <tbody>\n",
       "    <tr>\n",
       "      <th>0</th>\n",
       "      <td>1</td>\n",
       "      <td>1</td>\n",
       "      <td>3</td>\n",
       "      <td>3</td>\n",
       "    </tr>\n",
       "    <tr>\n",
       "      <th>1</th>\n",
       "      <td>2</td>\n",
       "      <td>2</td>\n",
       "      <td>1</td>\n",
       "      <td>1</td>\n",
       "    </tr>\n",
       "    <tr>\n",
       "      <th>2</th>\n",
       "      <td>3</td>\n",
       "      <td>3</td>\n",
       "      <td>2</td>\n",
       "      <td>3</td>\n",
       "    </tr>\n",
       "    <tr>\n",
       "      <th>3</th>\n",
       "      <td>1</td>\n",
       "      <td>1</td>\n",
       "      <td>4</td>\n",
       "      <td>2</td>\n",
       "    </tr>\n",
       "  </tbody>\n",
       "</table>\n",
       "</div>"
      ],
      "text/plain": [
       "   f1  f2  f3  f4\n",
       "0   1   1   3   3\n",
       "1   2   2   1   1\n",
       "2   3   3   2   3\n",
       "3   1   1   4   2"
      ]
     },
     "execution_count": 5,
     "metadata": {},
     "output_type": "execute_result"
    }
   ],
   "source": [
    "ordinal_df"
   ]
  },
  {
   "cell_type": "code",
   "execution_count": 11,
   "metadata": {},
   "outputs": [
    {
     "data": {
      "text/plain": [
       "[[0.0, 0.0, 0.67, 1.0],\n",
       " [0.5, 0.5, 0.0, 0.0],\n",
       " [1.0, 1.0, 0.33, 1.0],\n",
       " [0.0, 0.0, 1.0, 0.5]]"
      ]
     },
     "execution_count": 11,
     "metadata": {},
     "output_type": "execute_result"
    }
   ],
   "source": [
    "# normalized ranking\n",
    "normalized_rank = [[0 for _ in range(len(ordinal_df.columns))] for _ in range(len(ordinal_df))]\n",
    "for col in range(len(ordinal_df.columns)):\n",
    "    feature = ordinal_df.columns.values[col]\n",
    "    mf = len(set(ordinal_df[feature])) # Total number of unique states in that feature\n",
    "    for row in range(len(ordinal_df)):\n",
    "        curr_rank = ordinal_df.iloc[row][col]\n",
    "        normalized_rank[row][col] = round((curr_rank - 1) / (mf - 1), 2)\n",
    "\n",
    "normalized_rank"
   ]
  },
  {
   "cell_type": "code",
   "execution_count": 15,
   "metadata": {},
   "outputs": [
    {
     "data": {
      "text/plain": [
       "array([1, 1, 3, 3], dtype=int64)"
      ]
     },
     "execution_count": 15,
     "metadata": {},
     "output_type": "execute_result"
    }
   ],
   "source": [
    "ordinal_df.iloc[0].values"
   ]
  },
  {
   "cell_type": "code",
   "execution_count": 17,
   "metadata": {},
   "outputs": [
    {
     "data": {
      "text/plain": [
       "[[0.0, 3.16, 3.0, 1.41],\n",
       " [3.16, 0.0, 2.65, 3.46],\n",
       " [3.0, 2.65, 0.0, 3.61],\n",
       " [1.41, 3.46, 3.61, 0.0]]"
      ]
     },
     "execution_count": 17,
     "metadata": {},
     "output_type": "execute_result"
    }
   ],
   "source": [
    "dissimilarity_matrix = [[0 for _ in range(len(ordinal_df.columns))] for _ in range(len(ordinal_df))]\n",
    "for col in range(len(ordinal_df.columns)):\n",
    "    for row in range(len(ordinal_df)):\n",
    "        dissimilarity_matrix[row][col] = round(euclidean_distance(ordinal_df.iloc[row].values,\n",
    "                                                            ordinal_df.iloc[col].values), 2)\n",
    "\n",
    "dissimilarity_matrix"
   ]
  },
  {
   "cell_type": "code",
   "execution_count": null,
   "metadata": {},
   "outputs": [],
   "source": []
  },
  {
   "cell_type": "code",
   "execution_count": null,
   "metadata": {},
   "outputs": [],
   "source": []
  },
  {
   "cell_type": "markdown",
   "metadata": {},
   "source": [
    "## Ratio Scaled Data"
   ]
  },
  {
   "cell_type": "code",
   "execution_count": 3,
   "metadata": {},
   "outputs": [],
   "source": [
    "f1 = [2*np.exp(3*t) for t in np.linspace(1,20, 4)]\n",
    "f2 = [3*np.exp(2*t) for t in np.linspace(1,3,4)]\n",
    "f3 = [4*np.exp(t) for t in range(4)]\n",
    "f4 = [5*np.exp(1.5*t) for t in range(4,8)]\n",
    "\n",
    "ratio_df = pd.DataFrame({'f1': f1, 'f2': f2, 'f3' : f3, 'f4' : f4})"
   ]
  },
  {
   "cell_type": "code",
   "execution_count": 4,
   "metadata": {
    "scrolled": true
   },
   "outputs": [
    {
     "data": {
      "text/html": [
       "<div>\n",
       "<style scoped>\n",
       "    .dataframe tbody tr th:only-of-type {\n",
       "        vertical-align: middle;\n",
       "    }\n",
       "\n",
       "    .dataframe tbody tr th {\n",
       "        vertical-align: top;\n",
       "    }\n",
       "\n",
       "    .dataframe thead th {\n",
       "        text-align: right;\n",
       "    }\n",
       "</style>\n",
       "<table border=\"1\" class=\"dataframe\">\n",
       "  <thead>\n",
       "    <tr style=\"text-align: right;\">\n",
       "      <th></th>\n",
       "      <th>f1</th>\n",
       "      <th>f2</th>\n",
       "      <th>f3</th>\n",
       "      <th>f4</th>\n",
       "    </tr>\n",
       "  </thead>\n",
       "  <tbody>\n",
       "    <tr>\n",
       "      <th>0</th>\n",
       "      <td>4.017107e+01</td>\n",
       "      <td>22.167168</td>\n",
       "      <td>4.000000</td>\n",
       "      <td>2017.143967</td>\n",
       "    </tr>\n",
       "    <tr>\n",
       "      <th>1</th>\n",
       "      <td>7.169826e+09</td>\n",
       "      <td>84.094875</td>\n",
       "      <td>10.873127</td>\n",
       "      <td>9040.212072</td>\n",
       "    </tr>\n",
       "    <tr>\n",
       "      <th>2</th>\n",
       "      <td>1.279687e+18</td>\n",
       "      <td>319.028026</td>\n",
       "      <td>29.556224</td>\n",
       "      <td>40515.419638</td>\n",
       "    </tr>\n",
       "    <tr>\n",
       "      <th>3</th>\n",
       "      <td>2.284015e+26</td>\n",
       "      <td>1210.286380</td>\n",
       "      <td>80.342148</td>\n",
       "      <td>181577.513371</td>\n",
       "    </tr>\n",
       "  </tbody>\n",
       "</table>\n",
       "</div>"
      ],
      "text/plain": [
       "             f1           f2         f3             f4\n",
       "0  4.017107e+01    22.167168   4.000000    2017.143967\n",
       "1  7.169826e+09    84.094875  10.873127    9040.212072\n",
       "2  1.279687e+18   319.028026  29.556224   40515.419638\n",
       "3  2.284015e+26  1210.286380  80.342148  181577.513371"
      ]
     },
     "execution_count": 4,
     "metadata": {},
     "output_type": "execute_result"
    }
   ],
   "source": [
    "ratio_df"
   ]
  },
  {
   "cell_type": "code",
   "execution_count": 8,
   "metadata": {},
   "outputs": [
    {
     "data": {
      "text/plain": [
       "[[3.6931, 3.0986, 1.3863, 7.6094],\n",
       " [22.6931, 4.4319, 2.3863, 9.1094],\n",
       " [41.6931, 5.7653, 3.3863, 10.6094],\n",
       " [60.6931, 7.0986, 4.3863, 12.1094]]"
      ]
     },
     "execution_count": 8,
     "metadata": {},
     "output_type": "execute_result"
    }
   ],
   "source": [
    "ratio_log = [[0 for _ in range(len(ratio_df.columns))] for _ in range(len(ratio_df))]\n",
    "for col in range(len(ratio_df.columns)):\n",
    "    for row in range(len(ratio_df)):\n",
    "        ratio_log[row][col] = round(np.log(ratio_df.iloc[row][col]), 4)\n",
    "ratio_log"
   ]
  },
  {
   "cell_type": "code",
   "execution_count": 18,
   "metadata": {},
   "outputs": [],
   "source": [
    "def dissimilarity_matrix(ratio_log):\n",
    "    z_score = [[0 for _ in range(len(ratio_log[0]))] for _ in range(len(ratio_log))]\n",
    "    \n",
    "    for col in range(len(ratio_log[0])):\n",
    "        # catulating mean of the feature\n",
    "        sum_f = 0\n",
    "        for row in range(len(ratio_log)):\n",
    "            sum_f += ratio_log[row][col]\n",
    "        mean_f = sum_f / len(ratio_log)\n",
    "        \n",
    "        # calculating mean standard deviation of the feature\n",
    "        sum_f = 0\n",
    "        for row in range(len(ratio_log)):\n",
    "            sum_f += abs(ratio_log[row][col] - mean_f)\n",
    "        mean_std_dev = sum_f / len(ratio_log)\n",
    "        \n",
    "        # calculating z-scores\n",
    "        for row in range(len(ratio_log)):\n",
    "            z_score[row][col] = (ratio_log[row][col] - mean_f) / mean_std_dev\n",
    "            \n",
    "            \n",
    "    # calculating distance between objects and creating dissimilarity matrix\n",
    "    diss_matrix = [[0 for _ in range(len(ratio_log[0]))] for _ in range(len(ratio_log))]\n",
    "    for col in range(len(ratio_log[0])):\n",
    "        for row in range(len(ratio_log)):\n",
    "            diss_matrix[row][col] = euclidean_distance(z_score[row], z_score[col])\n",
    "            \n",
    "    return diss_matrix"
   ]
  },
  {
   "cell_type": "code",
   "execution_count": 21,
   "metadata": {},
   "outputs": [
    {
     "data": {
      "text/plain": [
       "[[0.0, 1.9999812504980399, 3.9999999999999996, 5.999981250322261],\n",
       " [1.9999812504980399, 0.0, 2.0000187500292905, 4.0],\n",
       " [3.9999999999999996, 2.0000187500292905, 0.0, 1.9999812504980399],\n",
       " [5.999981250322261, 4.0, 1.9999812504980399, 0.0]]"
      ]
     },
     "execution_count": 21,
     "metadata": {},
     "output_type": "execute_result"
    }
   ],
   "source": [
    "diss_matrix = dissimilarity_matrix(ratio_log)\n",
    "diss_matrix"
   ]
  },
  {
   "cell_type": "code",
   "execution_count": null,
   "metadata": {},
   "outputs": [],
   "source": []
  },
  {
   "cell_type": "code",
   "execution_count": null,
   "metadata": {},
   "outputs": [],
   "source": []
  },
  {
   "cell_type": "markdown",
   "metadata": {},
   "source": [
    "## Mixed type variables"
   ]
  },
  {
   "cell_type": "code",
   "execution_count": 4,
   "metadata": {},
   "outputs": [],
   "source": [
    "f1 = ['Code-A', 'Code-B', 'Code-C', 'Code-A'] # nominal\n",
    "f2 = ['Excellent', 'Fair', 'Good', 'Excellent'] # ordinal\n",
    "f3 = [445, 22, 164, 1210] # ratio scaled\n",
    "f4 = [45.6, 27.9, 56.7, 19] # numerical\n",
    "mixed_df = pd.DataFrame({'f1' : f1, 'f2' : f2, 'f3': f3, 'f4': f4})"
   ]
  },
  {
   "cell_type": "code",
   "execution_count": 5,
   "metadata": {},
   "outputs": [
    {
     "data": {
      "text/html": [
       "<div>\n",
       "<style scoped>\n",
       "    .dataframe tbody tr th:only-of-type {\n",
       "        vertical-align: middle;\n",
       "    }\n",
       "\n",
       "    .dataframe tbody tr th {\n",
       "        vertical-align: top;\n",
       "    }\n",
       "\n",
       "    .dataframe thead th {\n",
       "        text-align: right;\n",
       "    }\n",
       "</style>\n",
       "<table border=\"1\" class=\"dataframe\">\n",
       "  <thead>\n",
       "    <tr style=\"text-align: right;\">\n",
       "      <th></th>\n",
       "      <th>f1</th>\n",
       "      <th>f2</th>\n",
       "      <th>f3</th>\n",
       "      <th>f4</th>\n",
       "    </tr>\n",
       "  </thead>\n",
       "  <tbody>\n",
       "    <tr>\n",
       "      <th>0</th>\n",
       "      <td>Code-A</td>\n",
       "      <td>Excellent</td>\n",
       "      <td>445</td>\n",
       "      <td>45.6</td>\n",
       "    </tr>\n",
       "    <tr>\n",
       "      <th>1</th>\n",
       "      <td>Code-B</td>\n",
       "      <td>Fair</td>\n",
       "      <td>22</td>\n",
       "      <td>27.9</td>\n",
       "    </tr>\n",
       "    <tr>\n",
       "      <th>2</th>\n",
       "      <td>Code-C</td>\n",
       "      <td>Good</td>\n",
       "      <td>164</td>\n",
       "      <td>56.7</td>\n",
       "    </tr>\n",
       "    <tr>\n",
       "      <th>3</th>\n",
       "      <td>Code-A</td>\n",
       "      <td>Excellent</td>\n",
       "      <td>1210</td>\n",
       "      <td>19.0</td>\n",
       "    </tr>\n",
       "  </tbody>\n",
       "</table>\n",
       "</div>"
      ],
      "text/plain": [
       "       f1         f2    f3    f4\n",
       "0  Code-A  Excellent   445  45.6\n",
       "1  Code-B       Fair    22  27.9\n",
       "2  Code-C       Good   164  56.7\n",
       "3  Code-A  Excellent  1210  19.0"
      ]
     },
     "execution_count": 5,
     "metadata": {},
     "output_type": "execute_result"
    }
   ],
   "source": [
    "mixed_df"
   ]
  },
  {
   "cell_type": "code",
   "execution_count": null,
   "metadata": {},
   "outputs": [],
   "source": [
    "# creating dissimilarity matrix for mixed type variables\n",
    "def mixed_dissimilarity_matrix(mixed_df):\n",
    "    # grouping features according to their type\n",
    "    nominal_features = ['f1']\n",
    "    ordinal_features = ['f2']\n",
    "    ratio_scaled_features = ['f3']\n",
    "    numerical_features = ['f4']\n",
    "    \n",
    "    for feature in mixed_df.columns.values:\n",
    "        if feature in nominal_features:\n",
    "            pass\n",
    "        elif feature in ordinal_features:\n",
    "            pass\n",
    "        elif feature in ratio_scaled_features:\n",
    "            pass\n",
    "        elif feature in numerical_features:\n",
    "            pass\n",
    "    "
   ]
  }
 ],
 "metadata": {
  "kernelspec": {
   "display_name": "Python 3",
   "language": "python",
   "name": "python3"
  },
  "language_info": {
   "codemirror_mode": {
    "name": "ipython",
    "version": 3
   },
   "file_extension": ".py",
   "mimetype": "text/x-python",
   "name": "python",
   "nbconvert_exporter": "python",
   "pygments_lexer": "ipython3",
   "version": "3.8.5"
  }
 },
 "nbformat": 4,
 "nbformat_minor": 4
}
