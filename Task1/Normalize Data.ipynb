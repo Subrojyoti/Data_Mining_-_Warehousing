{
 "cells": [
  {
   "cell_type": "markdown",
   "metadata": {},
   "source": [
    "# Normalize a dataset using z-score and find out the Dissimilarity matrix"
   ]
  },
  {
   "cell_type": "markdown",
   "metadata": {},
   "source": [
    "## Numerical data"
   ]
  },
  {
   "cell_type": "code",
   "execution_count": 1,
   "metadata": {},
   "outputs": [],
   "source": [
    "import pandas as pd\n",
    "import numpy as np"
   ]
  },
  {
   "cell_type": "code",
   "execution_count": 2,
   "metadata": {},
   "outputs": [],
   "source": [
    "# creating an array of random integers\n",
    "f1 = np.random.randint(low = 0, high = 100, size = 4)\n",
    "f2 = np.random.randint(low = 30, high = 1000, size = 4)\n",
    "f3 = np.random.randint(low = 50, high = 10000, size = 4)\n",
    "f4 = np.random.randint(low = 100, high = 10000000, size = 4)\n",
    "\n",
    "# creating a dataframe from the arrays\n",
    "data = pd.DataFrame({\"f1\":f1, \"f2\":f2, \"f3\":f3, \"f4\":f4})"
   ]
  },
  {
   "cell_type": "code",
   "execution_count": 3,
   "metadata": {},
   "outputs": [
    {
     "data": {
      "text/html": [
       "<div>\n",
       "<style scoped>\n",
       "    .dataframe tbody tr th:only-of-type {\n",
       "        vertical-align: middle;\n",
       "    }\n",
       "\n",
       "    .dataframe tbody tr th {\n",
       "        vertical-align: top;\n",
       "    }\n",
       "\n",
       "    .dataframe thead th {\n",
       "        text-align: right;\n",
       "    }\n",
       "</style>\n",
       "<table border=\"1\" class=\"dataframe\">\n",
       "  <thead>\n",
       "    <tr style=\"text-align: right;\">\n",
       "      <th></th>\n",
       "      <th>f1</th>\n",
       "      <th>f2</th>\n",
       "      <th>f3</th>\n",
       "      <th>f4</th>\n",
       "    </tr>\n",
       "  </thead>\n",
       "  <tbody>\n",
       "    <tr>\n",
       "      <th>0</th>\n",
       "      <td>46</td>\n",
       "      <td>196</td>\n",
       "      <td>3270</td>\n",
       "      <td>8709077</td>\n",
       "    </tr>\n",
       "    <tr>\n",
       "      <th>1</th>\n",
       "      <td>60</td>\n",
       "      <td>97</td>\n",
       "      <td>3350</td>\n",
       "      <td>5980393</td>\n",
       "    </tr>\n",
       "    <tr>\n",
       "      <th>2</th>\n",
       "      <td>45</td>\n",
       "      <td>960</td>\n",
       "      <td>1796</td>\n",
       "      <td>4341810</td>\n",
       "    </tr>\n",
       "    <tr>\n",
       "      <th>3</th>\n",
       "      <td>84</td>\n",
       "      <td>574</td>\n",
       "      <td>1127</td>\n",
       "      <td>4072911</td>\n",
       "    </tr>\n",
       "  </tbody>\n",
       "</table>\n",
       "</div>"
      ],
      "text/plain": [
       "   f1   f2    f3       f4\n",
       "0  46  196  3270  8709077\n",
       "1  60   97  3350  5980393\n",
       "2  45  960  1796  4341810\n",
       "3  84  574  1127  4072911"
      ]
     },
     "execution_count": 3,
     "metadata": {},
     "output_type": "execute_result"
    }
   ],
   "source": [
    "data"
   ]
  },
  {
   "cell_type": "markdown",
   "metadata": {},
   "source": [
    "We can consider *f1*, *f2*, *f3*, *f4* as features"
   ]
  },
  {
   "cell_type": "code",
   "execution_count": 4,
   "metadata": {},
   "outputs": [],
   "source": [
    "# function to find the z-score\n",
    "def z_score(data):\n",
    "    data_z_score = pd.DataFrame()\n",
    "    data_z_score = data.copy()\n",
    "    for f in range(len(data)):\n",
    "        sum = 0\n",
    "        for i in range(len(data)):\n",
    "            sum += data.iloc[i][f]\n",
    "        mean = (sum / len(data))\n",
    "        \n",
    "        # mean absolute deviation\n",
    "        mad = 0\n",
    "        for i in range(len(data)):\n",
    "            mad += abs(data.iloc[i][f] - mean)\n",
    "        \n",
    "        mad /= len(data)\n",
    "        \n",
    "        # z-score\n",
    "        for i in range(len(data)):\n",
    "            data_z_score.iloc[i][f] = (data.iloc[i][f] - mean) / mad\n",
    "    \n",
    "    return data_z_score\n",
    "    \n",
    "data_z_score = z_score(data)"
   ]
  },
  {
   "cell_type": "code",
   "execution_count": 5,
   "metadata": {},
   "outputs": [
    {
     "data": {
      "text/html": [
       "<div>\n",
       "<style scoped>\n",
       "    .dataframe tbody tr th:only-of-type {\n",
       "        vertical-align: middle;\n",
       "    }\n",
       "\n",
       "    .dataframe tbody tr th {\n",
       "        vertical-align: top;\n",
       "    }\n",
       "\n",
       "    .dataframe thead th {\n",
       "        text-align: right;\n",
       "    }\n",
       "</style>\n",
       "<table border=\"1\" class=\"dataframe\">\n",
       "  <thead>\n",
       "    <tr style=\"text-align: right;\">\n",
       "      <th></th>\n",
       "      <th>f1</th>\n",
       "      <th>f2</th>\n",
       "      <th>f3</th>\n",
       "      <th>f4</th>\n",
       "    </tr>\n",
       "  </thead>\n",
       "  <tbody>\n",
       "    <tr>\n",
       "      <th>0</th>\n",
       "      <td>0</td>\n",
       "      <td>0</td>\n",
       "      <td>0</td>\n",
       "      <td>1</td>\n",
       "    </tr>\n",
       "    <tr>\n",
       "      <th>1</th>\n",
       "      <td>0</td>\n",
       "      <td>-1</td>\n",
       "      <td>1</td>\n",
       "      <td>0</td>\n",
       "    </tr>\n",
       "    <tr>\n",
       "      <th>2</th>\n",
       "      <td>-1</td>\n",
       "      <td>1</td>\n",
       "      <td>0</td>\n",
       "      <td>0</td>\n",
       "    </tr>\n",
       "    <tr>\n",
       "      <th>3</th>\n",
       "      <td>1</td>\n",
       "      <td>0</td>\n",
       "      <td>-1</td>\n",
       "      <td>-1</td>\n",
       "    </tr>\n",
       "  </tbody>\n",
       "</table>\n",
       "</div>"
      ],
      "text/plain": [
       "   f1  f2  f3  f4\n",
       "0   0   0   0   1\n",
       "1   0  -1   1   0\n",
       "2  -1   1   0   0\n",
       "3   1   0  -1  -1"
      ]
     },
     "execution_count": 5,
     "metadata": {},
     "output_type": "execute_result"
    }
   ],
   "source": [
    "data_z_score"
   ]
  },
  {
   "cell_type": "code",
   "execution_count": 6,
   "metadata": {},
   "outputs": [],
   "source": [
    "def euclidean_distance(x, y):\n",
    "    distance = 0\n",
    "    for i in range(len(x)):\n",
    "        distance += (x[i] - y[i])**2\n",
    "    \n",
    "    return np.sqrt(distance)"
   ]
  },
  {
   "cell_type": "markdown",
   "metadata": {},
   "source": [
    "We are required to find the **dissimilarity matrix** from the above matrix of *z-scores*"
   ]
  },
  {
   "cell_type": "code",
   "execution_count": 41,
   "metadata": {},
   "outputs": [
    {
     "name": "stdout",
     "output_type": "stream",
     "text": [
      "[[0.         1.73205081 1.73205081 2.44948974]\n",
      " [1.73205081 0.         2.44948974 2.64575131]\n",
      " [1.73205081 2.44948974 0.         2.64575131]\n",
      " [2.44948974 2.64575131 2.64575131 0.        ]]\n"
     ]
    }
   ],
   "source": [
    "dissimilarity_matrix = np.zeros((4,4)) # creates a 2D numpy array of shape (4,4) having all values as 0\n",
    "for f in range(len(data_z_score)):\n",
    "    for i in range(len(data_z_score)):\n",
    "        dissimilarity_matrix[i][f] = euclidean_distance(data_z_score.iloc[i].values, data_z_score.iloc[f].values)\n",
    "\n",
    "print(dissimilarity_matrix)"
   ]
  },
  {
   "cell_type": "code",
   "execution_count": null,
   "metadata": {},
   "outputs": [],
   "source": []
  },
  {
   "cell_type": "code",
   "execution_count": null,
   "metadata": {},
   "outputs": [],
   "source": []
  },
  {
   "cell_type": "code",
   "execution_count": null,
   "metadata": {},
   "outputs": [],
   "source": []
  },
  {
   "cell_type": "code",
   "execution_count": null,
   "metadata": {},
   "outputs": [],
   "source": []
  },
  {
   "cell_type": "markdown",
   "metadata": {},
   "source": [
    "## Nominal data"
   ]
  },
  {
   "cell_type": "code",
   "execution_count": 2,
   "metadata": {},
   "outputs": [],
   "source": [
    "hair_color = ['Black', 'Gray', 'Gray', \"Blue\"]\n",
    "emp_status = ['Employed', 'Unemployed', 'Employed', 'Retired']\n",
    "dress_color = ['blue', 'black', 'black', 'gray']\n",
    "gender = ['Male', 'Female', 'Female', 'Male']\n",
    "\n",
    "nominal_df = pd.DataFrame({'hair_color':hair_color, 'emp_status':emp_status,\n",
    "                           'dress_color':dress_color, 'gender':gender})"
   ]
  },
  {
   "cell_type": "code",
   "execution_count": 3,
   "metadata": {},
   "outputs": [
    {
     "data": {
      "text/html": [
       "<div>\n",
       "<style scoped>\n",
       "    .dataframe tbody tr th:only-of-type {\n",
       "        vertical-align: middle;\n",
       "    }\n",
       "\n",
       "    .dataframe tbody tr th {\n",
       "        vertical-align: top;\n",
       "    }\n",
       "\n",
       "    .dataframe thead th {\n",
       "        text-align: right;\n",
       "    }\n",
       "</style>\n",
       "<table border=\"1\" class=\"dataframe\">\n",
       "  <thead>\n",
       "    <tr style=\"text-align: right;\">\n",
       "      <th></th>\n",
       "      <th>hair_color</th>\n",
       "      <th>emp_status</th>\n",
       "      <th>dress_color</th>\n",
       "      <th>gender</th>\n",
       "    </tr>\n",
       "  </thead>\n",
       "  <tbody>\n",
       "    <tr>\n",
       "      <th>0</th>\n",
       "      <td>Black</td>\n",
       "      <td>Employed</td>\n",
       "      <td>blue</td>\n",
       "      <td>Male</td>\n",
       "    </tr>\n",
       "    <tr>\n",
       "      <th>1</th>\n",
       "      <td>Gray</td>\n",
       "      <td>Unemployed</td>\n",
       "      <td>black</td>\n",
       "      <td>Female</td>\n",
       "    </tr>\n",
       "    <tr>\n",
       "      <th>2</th>\n",
       "      <td>Gray</td>\n",
       "      <td>Employed</td>\n",
       "      <td>black</td>\n",
       "      <td>Female</td>\n",
       "    </tr>\n",
       "    <tr>\n",
       "      <th>3</th>\n",
       "      <td>Blue</td>\n",
       "      <td>Retired</td>\n",
       "      <td>gray</td>\n",
       "      <td>Male</td>\n",
       "    </tr>\n",
       "  </tbody>\n",
       "</table>\n",
       "</div>"
      ],
      "text/plain": [
       "  hair_color  emp_status dress_color  gender\n",
       "0      Black    Employed        blue    Male\n",
       "1       Gray  Unemployed       black  Female\n",
       "2       Gray    Employed       black  Female\n",
       "3       Blue     Retired        gray    Male"
      ]
     },
     "execution_count": 3,
     "metadata": {},
     "output_type": "execute_result"
    }
   ],
   "source": [
    "nominal_df"
   ]
  },
  {
   "cell_type": "code",
   "execution_count": 30,
   "metadata": {},
   "outputs": [],
   "source": [
    "def distinct(feature, nominal_df):\n",
    "    distinct_count = dict()\n",
    "    for i in nominal_df[feature]:\n",
    "        if i in distinct_count:\n",
    "            distinct_count[i] += 1\n",
    "        else:\n",
    "            distinct_count[i] = 1\n",
    "    return distinct_count"
   ]
  },
  {
   "cell_type": "code",
   "execution_count": 35,
   "metadata": {},
   "outputs": [],
   "source": [
    "def dissimilarity_matrix(nominal_df):\n",
    "    p = len(nominal_df.columns)\n",
    "    dissimilarity_matrix = [[0 for _ in range(len(nominal_df))] for _ in range(len(nominal_df))]\n",
    "    for col in range(len(nominal_df.columns)):\n",
    "        distinct_count = distinct(nominal_df.columns.values[col], nominal_df)\n",
    "        for row in range(len(nominal_df)):\n",
    "            dissimilarity_matrix[row][col] = (p - distinct_count[nominal_df.iloc[row][col]]) / p\n",
    "            \n",
    "    return dissimilarity_matrix"
   ]
  },
  {
   "cell_type": "code",
   "execution_count": 36,
   "metadata": {},
   "outputs": [
    {
     "data": {
      "text/plain": [
       "[[0.75, 0.5, 0.75, 0.5],\n",
       " [0.5, 0.75, 0.5, 0.5],\n",
       " [0.5, 0.5, 0.5, 0.5],\n",
       " [0.75, 0.75, 0.75, 0.5]]"
      ]
     },
     "execution_count": 36,
     "metadata": {},
     "output_type": "execute_result"
    }
   ],
   "source": [
    "dissimilarity_matrix(nominal_df)"
   ]
  },
  {
   "cell_type": "code",
   "execution_count": null,
   "metadata": {},
   "outputs": [],
   "source": []
  }
 ],
 "metadata": {
  "kernelspec": {
   "display_name": "Python 3",
   "language": "python",
   "name": "python3"
  },
  "language_info": {
   "codemirror_mode": {
    "name": "ipython",
    "version": 3
   },
   "file_extension": ".py",
   "mimetype": "text/x-python",
   "name": "python",
   "nbconvert_exporter": "python",
   "pygments_lexer": "ipython3",
   "version": "3.8.5"
  }
 },
 "nbformat": 4,
 "nbformat_minor": 4
}
