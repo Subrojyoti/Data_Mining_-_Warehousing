{
 "cells": [
  {
   "cell_type": "code",
   "execution_count": 1,
   "metadata": {},
   "outputs": [],
   "source": [
    "import numpy as np\n",
    "import pandas as pd\n",
    "from collections import Counter\n",
    "import math"
   ]
  },
  {
   "cell_type": "code",
   "execution_count": 2,
   "metadata": {},
   "outputs": [],
   "source": [
    "# features\n",
    "outlook = ['sunny', 'sunny', 'overcast', 'rain', 'rain', 'rain', 'overcast', 'sunny', 'sunny', 'rain',\n",
    "           'sunny', 'overcast', 'overcast', 'rain']\n",
    "temperature = ['hot', 'hot', 'hot', 'mild', 'cool', 'cool', 'cool', 'mild', 'cool', 'mild',\n",
    "               'mild', 'mild', 'hot', 'mild']\n",
    "humidity = ['high', 'high', 'high', 'high', 'normal', 'normal', 'normal', 'high', 'normal', 'normal',\n",
    "           'normal', 'high', 'normal', 'high']\n",
    "wind = ['weak', 'strong', 'weak', 'weak', 'weak', 'strong', 'strong', 'weak', 'weak', 'weak', 'strong',\n",
    "       'strong', 'weak', 'strong']\n",
    "play = ['no', 'no', 'yes', 'yes', 'yes', 'no', 'yes', 'no', 'yes', 'yes', 'yes', 'yes', 'yes', 'no']"
   ]
  },
  {
   "cell_type": "code",
   "execution_count": 3,
   "metadata": {},
   "outputs": [
    {
     "name": "stdout",
     "output_type": "stream",
     "text": [
      "14\n",
      "14\n",
      "14\n",
      "14\n",
      "14\n"
     ]
    }
   ],
   "source": [
    "print(len(outlook))\n",
    "print(len(temperature))\n",
    "print(len(humidity))\n",
    "print(len(wind))\n",
    "print(len(play))"
   ]
  },
  {
   "cell_type": "code",
   "execution_count": 4,
   "metadata": {},
   "outputs": [
    {
     "data": {
      "text/html": [
       "<div>\n",
       "<style scoped>\n",
       "    .dataframe tbody tr th:only-of-type {\n",
       "        vertical-align: middle;\n",
       "    }\n",
       "\n",
       "    .dataframe tbody tr th {\n",
       "        vertical-align: top;\n",
       "    }\n",
       "\n",
       "    .dataframe thead th {\n",
       "        text-align: right;\n",
       "    }\n",
       "</style>\n",
       "<table border=\"1\" class=\"dataframe\">\n",
       "  <thead>\n",
       "    <tr style=\"text-align: right;\">\n",
       "      <th></th>\n",
       "      <th>outlook</th>\n",
       "      <th>temperature</th>\n",
       "      <th>humidity</th>\n",
       "      <th>wind</th>\n",
       "      <th>play</th>\n",
       "    </tr>\n",
       "  </thead>\n",
       "  <tbody>\n",
       "    <tr>\n",
       "      <th>0</th>\n",
       "      <td>sunny</td>\n",
       "      <td>hot</td>\n",
       "      <td>high</td>\n",
       "      <td>weak</td>\n",
       "      <td>no</td>\n",
       "    </tr>\n",
       "    <tr>\n",
       "      <th>1</th>\n",
       "      <td>sunny</td>\n",
       "      <td>hot</td>\n",
       "      <td>high</td>\n",
       "      <td>strong</td>\n",
       "      <td>no</td>\n",
       "    </tr>\n",
       "    <tr>\n",
       "      <th>2</th>\n",
       "      <td>overcast</td>\n",
       "      <td>hot</td>\n",
       "      <td>high</td>\n",
       "      <td>weak</td>\n",
       "      <td>yes</td>\n",
       "    </tr>\n",
       "    <tr>\n",
       "      <th>3</th>\n",
       "      <td>rain</td>\n",
       "      <td>mild</td>\n",
       "      <td>high</td>\n",
       "      <td>weak</td>\n",
       "      <td>yes</td>\n",
       "    </tr>\n",
       "    <tr>\n",
       "      <th>4</th>\n",
       "      <td>rain</td>\n",
       "      <td>cool</td>\n",
       "      <td>normal</td>\n",
       "      <td>weak</td>\n",
       "      <td>yes</td>\n",
       "    </tr>\n",
       "    <tr>\n",
       "      <th>5</th>\n",
       "      <td>rain</td>\n",
       "      <td>cool</td>\n",
       "      <td>normal</td>\n",
       "      <td>strong</td>\n",
       "      <td>no</td>\n",
       "    </tr>\n",
       "    <tr>\n",
       "      <th>6</th>\n",
       "      <td>overcast</td>\n",
       "      <td>cool</td>\n",
       "      <td>normal</td>\n",
       "      <td>strong</td>\n",
       "      <td>yes</td>\n",
       "    </tr>\n",
       "    <tr>\n",
       "      <th>7</th>\n",
       "      <td>sunny</td>\n",
       "      <td>mild</td>\n",
       "      <td>high</td>\n",
       "      <td>weak</td>\n",
       "      <td>no</td>\n",
       "    </tr>\n",
       "    <tr>\n",
       "      <th>8</th>\n",
       "      <td>sunny</td>\n",
       "      <td>cool</td>\n",
       "      <td>normal</td>\n",
       "      <td>weak</td>\n",
       "      <td>yes</td>\n",
       "    </tr>\n",
       "    <tr>\n",
       "      <th>9</th>\n",
       "      <td>rain</td>\n",
       "      <td>mild</td>\n",
       "      <td>normal</td>\n",
       "      <td>weak</td>\n",
       "      <td>yes</td>\n",
       "    </tr>\n",
       "    <tr>\n",
       "      <th>10</th>\n",
       "      <td>sunny</td>\n",
       "      <td>mild</td>\n",
       "      <td>normal</td>\n",
       "      <td>strong</td>\n",
       "      <td>yes</td>\n",
       "    </tr>\n",
       "    <tr>\n",
       "      <th>11</th>\n",
       "      <td>overcast</td>\n",
       "      <td>mild</td>\n",
       "      <td>high</td>\n",
       "      <td>strong</td>\n",
       "      <td>yes</td>\n",
       "    </tr>\n",
       "    <tr>\n",
       "      <th>12</th>\n",
       "      <td>overcast</td>\n",
       "      <td>hot</td>\n",
       "      <td>normal</td>\n",
       "      <td>weak</td>\n",
       "      <td>yes</td>\n",
       "    </tr>\n",
       "    <tr>\n",
       "      <th>13</th>\n",
       "      <td>rain</td>\n",
       "      <td>mild</td>\n",
       "      <td>high</td>\n",
       "      <td>strong</td>\n",
       "      <td>no</td>\n",
       "    </tr>\n",
       "  </tbody>\n",
       "</table>\n",
       "</div>"
      ],
      "text/plain": [
       "     outlook temperature humidity    wind play\n",
       "0      sunny         hot     high    weak   no\n",
       "1      sunny         hot     high  strong   no\n",
       "2   overcast         hot     high    weak  yes\n",
       "3       rain        mild     high    weak  yes\n",
       "4       rain        cool   normal    weak  yes\n",
       "5       rain        cool   normal  strong   no\n",
       "6   overcast        cool   normal  strong  yes\n",
       "7      sunny        mild     high    weak   no\n",
       "8      sunny        cool   normal    weak  yes\n",
       "9       rain        mild   normal    weak  yes\n",
       "10     sunny        mild   normal  strong  yes\n",
       "11  overcast        mild     high  strong  yes\n",
       "12  overcast         hot   normal    weak  yes\n",
       "13      rain        mild     high  strong   no"
      ]
     },
     "execution_count": 4,
     "metadata": {},
     "output_type": "execute_result"
    }
   ],
   "source": [
    "data = pd.DataFrame({'outlook': outlook, 'temperature': temperature, 'humidity': humidity,\n",
    "                    'wind': wind, 'play': play})\n",
    "data"
   ]
  },
  {
   "cell_type": "code",
   "execution_count": 5,
   "metadata": {},
   "outputs": [],
   "source": [
    "# utilities\n",
    "\n",
    "def unique_values(target): # will return a dictionary consisting unique states and its total occurances of the target varible \n",
    "    record = dict(target.value_counts())\n",
    "    return record\n",
    "\n",
    "\n",
    "def entropy(feature): # returns the entropy(randomness) of the feature\n",
    "    target_record = unique_values(feature)\n",
    "    total_instance = len(feature)\n",
    "    entropy_value = 0.0\n",
    "    for i in target_record.values():\n",
    "        entropy_value -= (i/total_instance) * math.log2(i/total_instance)\n",
    "    return entropy_value\n",
    "\n",
    "def info_gain(X, target, curr_feature): # returns the information gain of the current feature\n",
    "    dataset_entropy = entropy(target)   # entropy of the whole dataset\n",
    "    feature_value = set(X[curr_feature]) # gets unique values/states of the current feature\n",
    "    total_instance = len(target)\n",
    "    curr_feature_entropy = 0.0\n",
    "    # formula can be found in the internet/books\n",
    "    for value in feature_value:\n",
    "        value_bool = X[curr_feature] == value\n",
    "        value_entropy = entropy(pd.Series(target[value_bool]))\n",
    "        value_weight = sum(value_bool) / total_instance\n",
    "        curr_feature_entropy += value_weight * value_entropy\n",
    "    information_gain = dataset_entropy - curr_feature_entropy\n",
    "    return information_gain\n",
    "\n",
    "def best_feature(X, target, features): # returns the feature that has the highest information gain\n",
    "    best_feature = None\n",
    "    highest_info_gain = -1\n",
    "    for feature in features:\n",
    "        gain = info_gain(X, target, feature)\n",
    "        if gain > highest_info_gain:\n",
    "            highest_info_gain = gain\n",
    "            best_feature = feature\n",
    "    return best_feature\n",
    "\n",
    "def decisionTree(X, target, features): # building the decision tree recursively\n",
    "    # if there is only one class then just return it\n",
    "    if(len(set(target)) == 1):\n",
    "        return target.iloc[0]\n",
    "    # if there is no feature left to split then return the most frequent class\n",
    "    if(len(features) == 0):\n",
    "        return max(target)\n",
    "    \n",
    "    # gtting the feature with highest infomation gain\n",
    "    feature_to_split = best_feature(X, target, features)\n",
    "    rest_of_features = [feature for feature in features if feature != feature_to_split]\n",
    "    \n",
    "    tree = {feature_to_split : {}}\n",
    "    \n",
    "    for value in set(X[feature_to_split]):\n",
    "        value_bool = X[feature_to_split] == value\n",
    "        X_subset = X[value_bool]\n",
    "        target_subset = target[value_bool]\n",
    "        tree[feature_to_split][value] = decisionTree(X_subset, target_subset, rest_of_features)\n",
    "        \n",
    "    return tree"
   ]
  },
  {
   "cell_type": "code",
   "execution_count": 20,
   "metadata": {},
   "outputs": [],
   "source": [
    "def predict(tree, instance): # returns the predicted value for the instance\n",
    "    feature = list(tree.keys())[0] # feature at root node\n",
    "    subtree = tree[feature] # will get the subtree under the root node\n",
    "    value = instance[feature]  # will get the value of position at the particular instance and feature\n",
    "    if value in subtree:\n",
    "        prediction = subtree[value]\n",
    "        if isinstance(prediction, dict): # if prediction is a dictionary type that means there a subtree under it\n",
    "            return predict(prediction, instance) # recursive call\n",
    "        else:  # no more subtree under it\n",
    "            return prediction\n",
    "    else: # value doesn't exist in the subtree and return the majority state of the parent node\n",
    "        return max(subtree.values())"
   ]
  },
  {
   "cell_type": "code",
   "execution_count": 8,
   "metadata": {},
   "outputs": [],
   "source": [
    "X = data.drop(columns = ['play'])\n",
    "target = data['play']\n",
    "features = list(X.columns)"
   ]
  },
  {
   "cell_type": "code",
   "execution_count": 9,
   "metadata": {},
   "outputs": [],
   "source": [
    "tree = decisionTree(X, target, features)"
   ]
  },
  {
   "cell_type": "code",
   "execution_count": 10,
   "metadata": {
    "scrolled": true
   },
   "outputs": [
    {
     "name": "stdout",
     "output_type": "stream",
     "text": [
      "Decision Tree: {'outlook': {'rain': {'wind': {'weak': 'yes', 'strong': 'no'}}, 'sunny': {'humidity': {'high': 'no', 'normal': 'yes'}}, 'overcast': 'yes'}}\n"
     ]
    }
   ],
   "source": [
    "print(\"Decision Tree:\", tree)"
   ]
  },
  {
   "cell_type": "markdown",
   "metadata": {},
   "source": [
    "### To visualize the Tree take a llok at the following code"
   ]
  },
  {
   "cell_type": "code",
   "execution_count": 16,
   "metadata": {
    "scrolled": true
   },
   "outputs": [
    {
     "data": {
      "text/plain": [
       "'decision_tree.pdf'"
      ]
     },
     "execution_count": 16,
     "metadata": {},
     "output_type": "execute_result"
    }
   ],
   "source": [
    "def convert_tree_to_dot(tree, feature_names):\n",
    "    dot = \"digraph Tree {\\nnode [shape=box, style=\\\"filled\\\", color=\\\"black\\\"] ;\\n\"\n",
    "    queue = deque([(tree, \"Root\")])\n",
    "    while queue:\n",
    "        node, label = queue.popleft()\n",
    "        if isinstance(node, dict):\n",
    "            for value, subtree in node.items():\n",
    "                if isinstance(subtree, dict):\n",
    "                    queue.append((subtree, \"{}_{}\".format(label, value)))\n",
    "                    dot += '\"{}\" -> \"{}_{}\" [label=\"{}\"] ;\\n'.format(label, label, value, value)\n",
    "                else:\n",
    "                    if subtree == 'yes':\n",
    "                        dot += '\"{}\" [label=\"yes\", shape=ellipse, fillcolor=\"#9ece9a\"] ;\\n'.format(\"{}_{}\".format(label, value))\n",
    "                    else:\n",
    "                        dot += '\"{}\" [label=\"no\", shape=ellipse, fillcolor=\"#ffcccb\"] ;\\n'.format(\"{}_{}\".format(label, value))\n",
    "                    dot += '\"{}\" -> \"{}_{}\" [label=\"{}\"] ;\\n'.format(label, label, value, value)\n",
    "        else:\n",
    "            dot += '\"{}\" [label=\"{}\"] ;\\n'.format(label, node)\n",
    "    dot += \"}\"\n",
    "    return dot\n",
    "\n",
    "# Convert the decision tree to DOT format\n",
    "dot_data = convert_tree_to_dot(tree, features)\n",
    "\n",
    "# Visualize the decision tree\n",
    "graph = graphviz.Source(dot_data)\n",
    "graph.render(\"decision_tree\", format='png', cleanup=True)\n",
    "graph.view()\n"
   ]
  },
  {
   "cell_type": "markdown",
   "metadata": {},
   "source": [
    "### Making predictions on test set"
   ]
  },
  {
   "cell_type": "code",
   "execution_count": 22,
   "metadata": {},
   "outputs": [
    {
     "data": {
      "text/html": [
       "<div>\n",
       "<style scoped>\n",
       "    .dataframe tbody tr th:only-of-type {\n",
       "        vertical-align: middle;\n",
       "    }\n",
       "\n",
       "    .dataframe tbody tr th {\n",
       "        vertical-align: top;\n",
       "    }\n",
       "\n",
       "    .dataframe thead th {\n",
       "        text-align: right;\n",
       "    }\n",
       "</style>\n",
       "<table border=\"1\" class=\"dataframe\">\n",
       "  <thead>\n",
       "    <tr style=\"text-align: right;\">\n",
       "      <th></th>\n",
       "      <th>outlook</th>\n",
       "      <th>temperature</th>\n",
       "      <th>humidity</th>\n",
       "      <th>wind</th>\n",
       "      <th>play_predictions</th>\n",
       "    </tr>\n",
       "  </thead>\n",
       "  <tbody>\n",
       "    <tr>\n",
       "      <th>0</th>\n",
       "      <td>sunny</td>\n",
       "      <td>hot</td>\n",
       "      <td>high</td>\n",
       "      <td>weak</td>\n",
       "      <td>no</td>\n",
       "    </tr>\n",
       "    <tr>\n",
       "      <th>1</th>\n",
       "      <td>overcast</td>\n",
       "      <td>mild</td>\n",
       "      <td>normal</td>\n",
       "      <td>strong</td>\n",
       "      <td>yes</td>\n",
       "    </tr>\n",
       "    <tr>\n",
       "      <th>2</th>\n",
       "      <td>rain</td>\n",
       "      <td>cool</td>\n",
       "      <td>high</td>\n",
       "      <td>weak</td>\n",
       "      <td>yes</td>\n",
       "    </tr>\n",
       "  </tbody>\n",
       "</table>\n",
       "</div>"
      ],
      "text/plain": [
       "    outlook temperature humidity    wind play_predictions\n",
       "0     sunny         hot     high    weak               no\n",
       "1  overcast        mild   normal  strong              yes\n",
       "2      rain        cool     high    weak              yes"
      ]
     },
     "execution_count": 22,
     "metadata": {},
     "output_type": "execute_result"
    }
   ],
   "source": [
    "test_outlook = ['sunny', 'overcast', 'rain']\n",
    "test_temperature = ['hot', 'mild', 'cool']\n",
    "test_humidity = ['high', 'normal', 'high']\n",
    "test_wind = ['weak', 'strong', 'weak']\n",
    "\n",
    "test_data = pd.DataFrame({'outlook': test_outlook, 'temperature': test_temperature, 'humidity': test_humidity,\n",
    "                    'wind': test_wind})\n",
    "predictions = []\n",
    "for i in range(len(test_data)):\n",
    "    instance = test_data.iloc[i]\n",
    "    predictions.append(predict(tree, instance))\n",
    "test_data['play_predictions'] = predictions\n",
    "test_data"
   ]
  },
  {
   "cell_type": "code",
   "execution_count": null,
   "metadata": {},
   "outputs": [],
   "source": []
  }
 ],
 "metadata": {
  "kernelspec": {
   "display_name": "Python 3",
   "language": "python",
   "name": "python3"
  },
  "language_info": {
   "codemirror_mode": {
    "name": "ipython",
    "version": 3
   },
   "file_extension": ".py",
   "mimetype": "text/x-python",
   "name": "python",
   "nbconvert_exporter": "python",
   "pygments_lexer": "ipython3",
   "version": "3.8.5"
  }
 },
 "nbformat": 4,
 "nbformat_minor": 4
}
