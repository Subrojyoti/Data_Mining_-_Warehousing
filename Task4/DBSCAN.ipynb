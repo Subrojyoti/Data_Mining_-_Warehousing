{
 "cells": [
  {
   "cell_type": "code",
   "execution_count": 1,
   "metadata": {},
   "outputs": [],
   "source": [
    "# importing general libraries\n",
    "import numpy as np\n",
    "import pandas as pd\n",
    "import matplotlib.pyplot as plt\n",
    "\n",
    "from sklearn.datasets import make_blobs # for generating dataset\n",
    "import queue"
   ]
  },
  {
   "cell_type": "markdown",
   "metadata": {},
   "source": [
    "Generating **random dataset** with **2 Features**"
   ]
  },
  {
   "cell_type": "code",
   "execution_count": 2,
   "metadata": {
    "scrolled": false
   },
   "outputs": [
    {
     "name": "stdout",
     "output_type": "stream",
     "text": [
      "X shape:  (950, 2)\n"
     ]
    }
   ],
   "source": [
    "X, y = make_blobs(n_samples = 950, centers = 3, n_features = 2, random_state=42, cluster_std = 1)\n",
    "print(\"X shape: \", X.shape)"
   ]
  },
  {
   "cell_type": "code",
   "execution_count": 3,
   "metadata": {},
   "outputs": [],
   "source": [
    "# adding some noise points to the dataset\n",
    "total_noise_points = 50\n",
    "noise_X = np.random.uniform(low = X[:,0].min(), high = X[:,1].max(),\n",
    "                            size = (total_noise_points, 2))\n",
    "X_combined = np.vstack((X, noise_X))"
   ]
  },
  {
   "cell_type": "code",
   "execution_count": 4,
   "metadata": {
    "scrolled": true
   },
   "outputs": [
    {
     "data": {
      "text/html": [
       "<div>\n",
       "<style scoped>\n",
       "    .dataframe tbody tr th:only-of-type {\n",
       "        vertical-align: middle;\n",
       "    }\n",
       "\n",
       "    .dataframe tbody tr th {\n",
       "        vertical-align: top;\n",
       "    }\n",
       "\n",
       "    .dataframe thead th {\n",
       "        text-align: right;\n",
       "    }\n",
       "</style>\n",
       "<table border=\"1\" class=\"dataframe\">\n",
       "  <thead>\n",
       "    <tr style=\"text-align: right;\">\n",
       "      <th></th>\n",
       "      <th>feature_1</th>\n",
       "      <th>feature_2</th>\n",
       "    </tr>\n",
       "  </thead>\n",
       "  <tbody>\n",
       "    <tr>\n",
       "      <th>0</th>\n",
       "      <td>-3.101592</td>\n",
       "      <td>8.150295</td>\n",
       "    </tr>\n",
       "    <tr>\n",
       "      <th>1</th>\n",
       "      <td>6.022038</td>\n",
       "      <td>2.621880</td>\n",
       "    </tr>\n",
       "    <tr>\n",
       "      <th>2</th>\n",
       "      <td>5.252653</td>\n",
       "      <td>0.919754</td>\n",
       "    </tr>\n",
       "    <tr>\n",
       "      <th>3</th>\n",
       "      <td>-4.980842</td>\n",
       "      <td>8.217391</td>\n",
       "    </tr>\n",
       "    <tr>\n",
       "      <th>4</th>\n",
       "      <td>4.193695</td>\n",
       "      <td>0.083629</td>\n",
       "    </tr>\n",
       "    <tr>\n",
       "      <th>...</th>\n",
       "      <td>...</td>\n",
       "      <td>...</td>\n",
       "    </tr>\n",
       "    <tr>\n",
       "      <th>995</th>\n",
       "      <td>-8.868213</td>\n",
       "      <td>-4.867584</td>\n",
       "    </tr>\n",
       "    <tr>\n",
       "      <th>996</th>\n",
       "      <td>-1.750122</td>\n",
       "      <td>6.084018</td>\n",
       "    </tr>\n",
       "    <tr>\n",
       "      <th>997</th>\n",
       "      <td>-8.003442</td>\n",
       "      <td>3.781821</td>\n",
       "    </tr>\n",
       "    <tr>\n",
       "      <th>998</th>\n",
       "      <td>9.484139</td>\n",
       "      <td>1.566504</td>\n",
       "    </tr>\n",
       "    <tr>\n",
       "      <th>999</th>\n",
       "      <td>1.441278</td>\n",
       "      <td>11.028610</td>\n",
       "    </tr>\n",
       "  </tbody>\n",
       "</table>\n",
       "<p>1000 rows × 2 columns</p>\n",
       "</div>"
      ],
      "text/plain": [
       "     feature_1  feature_2\n",
       "0    -3.101592   8.150295\n",
       "1     6.022038   2.621880\n",
       "2     5.252653   0.919754\n",
       "3    -4.980842   8.217391\n",
       "4     4.193695   0.083629\n",
       "..         ...        ...\n",
       "995  -8.868213  -4.867584\n",
       "996  -1.750122   6.084018\n",
       "997  -8.003442   3.781821\n",
       "998   9.484139   1.566504\n",
       "999   1.441278  11.028610\n",
       "\n",
       "[1000 rows x 2 columns]"
      ]
     },
     "execution_count": 4,
     "metadata": {},
     "output_type": "execute_result"
    }
   ],
   "source": [
    "features = [f\"feature_{i+1}\" for i in range (X.shape[1])]\n",
    "# Transforming the nd_array X to a dataframe\n",
    "data = pd.DataFrame(X_combined, columns = features)\n",
    "data"
   ]
  },
  {
   "cell_type": "code",
   "execution_count": 5,
   "metadata": {},
   "outputs": [
    {
     "data": {
      "text/html": [
       "<div>\n",
       "<style scoped>\n",
       "    .dataframe tbody tr th:only-of-type {\n",
       "        vertical-align: middle;\n",
       "    }\n",
       "\n",
       "    .dataframe tbody tr th {\n",
       "        vertical-align: top;\n",
       "    }\n",
       "\n",
       "    .dataframe thead th {\n",
       "        text-align: right;\n",
       "    }\n",
       "</style>\n",
       "<table border=\"1\" class=\"dataframe\">\n",
       "  <thead>\n",
       "    <tr style=\"text-align: right;\">\n",
       "      <th></th>\n",
       "      <th>feature_1</th>\n",
       "      <th>feature_2</th>\n",
       "    </tr>\n",
       "  </thead>\n",
       "  <tbody>\n",
       "    <tr>\n",
       "      <th>count</th>\n",
       "      <td>1000.000000</td>\n",
       "      <td>1000.000000</td>\n",
       "    </tr>\n",
       "    <tr>\n",
       "      <th>mean</th>\n",
       "      <td>-1.418645</td>\n",
       "      <td>1.416721</td>\n",
       "    </tr>\n",
       "    <tr>\n",
       "      <th>std</th>\n",
       "      <td>4.984480</td>\n",
       "      <td>6.548915</td>\n",
       "    </tr>\n",
       "    <tr>\n",
       "      <th>min</th>\n",
       "      <td>-9.582859</td>\n",
       "      <td>-9.801460</td>\n",
       "    </tr>\n",
       "    <tr>\n",
       "      <th>25%</th>\n",
       "      <td>-6.146399</td>\n",
       "      <td>-6.062851</td>\n",
       "    </tr>\n",
       "    <tr>\n",
       "      <th>50%</th>\n",
       "      <td>-2.432611</td>\n",
       "      <td>2.094190</td>\n",
       "    </tr>\n",
       "    <tr>\n",
       "      <th>75%</th>\n",
       "      <td>4.096250</td>\n",
       "      <td>8.250341</td>\n",
       "    </tr>\n",
       "    <tr>\n",
       "      <th>max</th>\n",
       "      <td>12.683916</td>\n",
       "      <td>12.867018</td>\n",
       "    </tr>\n",
       "  </tbody>\n",
       "</table>\n",
       "</div>"
      ],
      "text/plain": [
       "         feature_1    feature_2\n",
       "count  1000.000000  1000.000000\n",
       "mean     -1.418645     1.416721\n",
       "std       4.984480     6.548915\n",
       "min      -9.582859    -9.801460\n",
       "25%      -6.146399    -6.062851\n",
       "50%      -2.432611     2.094190\n",
       "75%       4.096250     8.250341\n",
       "max      12.683916    12.867018"
      ]
     },
     "execution_count": 5,
     "metadata": {},
     "output_type": "execute_result"
    }
   ],
   "source": [
    "data.describe()"
   ]
  },
  {
   "cell_type": "markdown",
   "metadata": {},
   "source": [
    "**Visualizing** the dataset"
   ]
  },
  {
   "cell_type": "code",
   "execution_count": 6,
   "metadata": {},
   "outputs": [
    {
     "data": {
      "image/png": "[encoded data removed]",
      "text/plain": [
       "<Figure size 432x288 with 1 Axes>"
      ]
     },
     "metadata": {
      "needs_background": "light"
     },
     "output_type": "display_data"
    }
   ],
   "source": [
    "# using scatterplot\n",
    "plt.scatter(x = data['feature_1'], y = data['feature_2'])\n",
    "plt.xlabel(\"Feature_1\")\n",
    "plt.ylabel(\"Feature_2\")\n",
    "plt.show()"
   ]
  },
  {
   "cell_type": "markdown",
   "metadata": {},
   "source": [
    "**Algorithm for DBSCAN**  \n",
    "*Step 1*: Initialize the algorithm by selecting an arbitrary point that has not been visited.  \n",
    "*Step 2*: Retrieve all points in the ε-neighborhood of this point and mark it as visited.  \n",
    "*Step 3*: If this point has a sufficient number of points in its ε-neighborhood, create a cluster starting with this point.  \n",
    "*Step 4*: Expand the cluster by adding all reachable points to the cluster.  \n",
    "*Step 5*: Repeat the process for all unvisited points until all points have been visited.  \n",
    "*Step 6*: The algorithm terminates when all points have been visited and clustered.  "
   ]
  },
  {
   "cell_type": "code",
   "execution_count": 7,
   "metadata": {},
   "outputs": [],
   "source": [
    "temp_data = data.copy()"
   ]
  },
  {
   "cell_type": "code",
   "execution_count": 8,
   "metadata": {},
   "outputs": [],
   "source": [
    "def euclidean_distance(pt1, pt2):\n",
    "    distance = 0\n",
    "    for i in range(len(pt1)):\n",
    "        distance += (pt1[i] - pt2[i])**2\n",
    "    return distance**0.5\n",
    "\n",
    "def nextId(cluster_Id):\n",
    "    return cluster_Id + 1\n",
    "\n",
    "def get_neighbors(data, point, eps):    # returns index of neighbors of a given point \n",
    "    neighbors_index = []\n",
    "    \n",
    "    for i in range(len(data)):\n",
    "        if euclidean_distance(data.iloc[i].values, point) <= eps:\n",
    "            neighbors_index.append(i)\n",
    "    return neighbors_index\n",
    "\n",
    "def assign_cluster_id(temp_data, seeds_index, cluster_Id):   # assigns clusterId to data points\n",
    "    for i in seeds_index:\n",
    "        temp_data['clusterId'][i] = cluster_Id\n",
    "\n",
    "# expand the cluster around a given point\n",
    "def expand_cluster(temp_data, data, index, point, eps, min_pts, cluster_Id):\n",
    "    seeds_index = get_neighbors(data, point, eps) # we get a list of indexes of neighbors of the 'point'\n",
    "    if len(seeds_index) < min_pts:\n",
    "        temp_data['clusterId'][index] = -1  # we assign the point as noise\n",
    "        return False\n",
    "    else:\n",
    "        assign_cluster_id(temp_data, seeds_index, cluster_Id)  # see the function implemention above\n",
    "        seeds_index.remove(index)\n",
    "        while len(seeds_index) > 0:\n",
    "            current_point_index = seeds_index[0]\n",
    "            sub_seed_index = get_neighbors(data, data.iloc[current_point_index].values, eps)\n",
    "            if len(sub_seed_index) >= min_pts:\n",
    "                for sub_idx in sub_seed_index:\n",
    "                    if temp_data['clusterId'][sub_idx] == None: # if point is unclassified\n",
    "                        seeds_index.append(sub_idx) # then append it to seed_index\n",
    "                    temp_data['clusterId'][sub_idx] = cluster_Id\n",
    "            seeds_index.remove(current_point_index)\n",
    "        return True\n",
    "\n",
    "def DBSCAN(data, temp_data, eps, min_pts):\n",
    "    cluster_Id = 0\n",
    "    temp_data['clusterId'] = np.array([None]* len(data))\n",
    "    for i in range(len(data)):\n",
    "        if temp_data['clusterId'][i] == None:\n",
    "            if expand_cluster(temp_data, data, i, data.iloc[i], eps, min_pts, cluster_Id):\n",
    "                cluster_Id = nextId(cluster_Id)"
   ]
  },
  {
   "cell_type": "code",
   "execution_count": 9,
   "metadata": {},
   "outputs": [
    {
     "name": "stderr",
     "output_type": "stream",
     "text": [
      "<ipython-input-8-79d63777cbc5>:20: SettingWithCopyWarning: \n",
      "A value is trying to be set on a copy of a slice from a DataFrame\n",
      "\n",
      "See the caveats in the documentation: https://pandas.pydata.org/pandas-docs/stable/user_guide/indexing.html#returning-a-view-versus-a-copy\n",
      "  temp_data['clusterId'][i] = cluster_Id\n",
      "<ipython-input-8-79d63777cbc5>:38: SettingWithCopyWarning: \n",
      "A value is trying to be set on a copy of a slice from a DataFrame\n",
      "\n",
      "See the caveats in the documentation: https://pandas.pydata.org/pandas-docs/stable/user_guide/indexing.html#returning-a-view-versus-a-copy\n",
      "  temp_data['clusterId'][sub_idx] = cluster_Id\n",
      "<ipython-input-8-79d63777cbc5>:26: SettingWithCopyWarning: \n",
      "A value is trying to be set on a copy of a slice from a DataFrame\n",
      "\n",
      "See the caveats in the documentation: https://pandas.pydata.org/pandas-docs/stable/user_guide/indexing.html#returning-a-view-versus-a-copy\n",
      "  temp_data['clusterId'][index] = -1  # we assign the point as noise\n"
     ]
    }
   ],
   "source": [
    "DBSCAN(data, temp_data, 1.5, 10)"
   ]
  },
  {
   "cell_type": "code",
   "execution_count": 11,
   "metadata": {},
   "outputs": [
    {
     "data": {
      "text/html": [
       "<div>\n",
       "<style scoped>\n",
       "    .dataframe tbody tr th:only-of-type {\n",
       "        vertical-align: middle;\n",
       "    }\n",
       "\n",
       "    .dataframe tbody tr th {\n",
       "        vertical-align: top;\n",
       "    }\n",
       "\n",
       "    .dataframe thead th {\n",
       "        text-align: right;\n",
       "    }\n",
       "</style>\n",
       "<table border=\"1\" class=\"dataframe\">\n",
       "  <thead>\n",
       "    <tr style=\"text-align: right;\">\n",
       "      <th></th>\n",
       "      <th>feature_1</th>\n",
       "      <th>feature_2</th>\n",
       "      <th>clusterId</th>\n",
       "    </tr>\n",
       "  </thead>\n",
       "  <tbody>\n",
       "    <tr>\n",
       "      <th>0</th>\n",
       "      <td>-3.101592</td>\n",
       "      <td>8.150295</td>\n",
       "      <td>0</td>\n",
       "    </tr>\n",
       "    <tr>\n",
       "      <th>1</th>\n",
       "      <td>6.022038</td>\n",
       "      <td>2.621880</td>\n",
       "      <td>1</td>\n",
       "    </tr>\n",
       "    <tr>\n",
       "      <th>2</th>\n",
       "      <td>5.252653</td>\n",
       "      <td>0.919754</td>\n",
       "      <td>1</td>\n",
       "    </tr>\n",
       "    <tr>\n",
       "      <th>3</th>\n",
       "      <td>-4.980842</td>\n",
       "      <td>8.217391</td>\n",
       "      <td>0</td>\n",
       "    </tr>\n",
       "    <tr>\n",
       "      <th>4</th>\n",
       "      <td>4.193695</td>\n",
       "      <td>0.083629</td>\n",
       "      <td>1</td>\n",
       "    </tr>\n",
       "    <tr>\n",
       "      <th>...</th>\n",
       "      <td>...</td>\n",
       "      <td>...</td>\n",
       "      <td>...</td>\n",
       "    </tr>\n",
       "    <tr>\n",
       "      <th>995</th>\n",
       "      <td>-8.868213</td>\n",
       "      <td>-4.867584</td>\n",
       "      <td>2</td>\n",
       "    </tr>\n",
       "    <tr>\n",
       "      <th>996</th>\n",
       "      <td>-1.750122</td>\n",
       "      <td>6.084018</td>\n",
       "      <td>0</td>\n",
       "    </tr>\n",
       "    <tr>\n",
       "      <th>997</th>\n",
       "      <td>-8.003442</td>\n",
       "      <td>3.781821</td>\n",
       "      <td>-1</td>\n",
       "    </tr>\n",
       "    <tr>\n",
       "      <th>998</th>\n",
       "      <td>9.484139</td>\n",
       "      <td>1.566504</td>\n",
       "      <td>-1</td>\n",
       "    </tr>\n",
       "    <tr>\n",
       "      <th>999</th>\n",
       "      <td>1.441278</td>\n",
       "      <td>11.028610</td>\n",
       "      <td>0</td>\n",
       "    </tr>\n",
       "  </tbody>\n",
       "</table>\n",
       "<p>1000 rows × 3 columns</p>\n",
       "</div>"
      ],
      "text/plain": [
       "     feature_1  feature_2 clusterId\n",
       "0    -3.101592   8.150295         0\n",
       "1     6.022038   2.621880         1\n",
       "2     5.252653   0.919754         1\n",
       "3    -4.980842   8.217391         0\n",
       "4     4.193695   0.083629         1\n",
       "..         ...        ...       ...\n",
       "995  -8.868213  -4.867584         2\n",
       "996  -1.750122   6.084018         0\n",
       "997  -8.003442   3.781821        -1\n",
       "998   9.484139   1.566504        -1\n",
       "999   1.441278  11.028610         0\n",
       "\n",
       "[1000 rows x 3 columns]"
      ]
     },
     "execution_count": 11,
     "metadata": {},
     "output_type": "execute_result"
    }
   ],
   "source": [
    "temp_data"
   ]
  },
  {
   "cell_type": "code",
   "execution_count": 12,
   "metadata": {},
   "outputs": [
    {
     "data": {
      "text/plain": [
       "<matplotlib.collections.PathCollection at 0x28851d96c10>"
      ]
     },
     "execution_count": 12,
     "metadata": {},
     "output_type": "execute_result"
    },
    {
     "data": {
      "image/png": "[encoded data removed]",
      "text/plain": [
       "<Figure size 432x288 with 1 Axes>"
      ]
     },
     "metadata": {
      "needs_background": "light"
     },
     "output_type": "display_data"
    }
   ],
   "source": [
    "plt.scatter(x=data['feature_1'], y = data['feature_2'], c = temp_data['clusterId'])"
   ]
  },
  {
   "cell_type": "code",
   "execution_count": null,
   "metadata": {},
   "outputs": [],
   "source": []
  }
 ],
 "metadata": {
  "kernelspec": {
   "display_name": "Python 3",
   "language": "python",
   "name": "python3"
  },
  "language_info": {
   "codemirror_mode": {
    "name": "ipython",
    "version": 3
   },
   "file_extension": ".py",
   "mimetype": "text/x-python",
   "name": "python",
   "nbconvert_exporter": "python",
   "pygments_lexer": "ipython3",
   "version": "3.8.5"
  }
 },
 "nbformat": 4,
 "nbformat_minor": 4
}
