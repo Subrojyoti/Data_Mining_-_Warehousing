{
 "cells": [
  {
   "cell_type": "code",
   "execution_count": 1,
   "metadata": {},
   "outputs": [],
   "source": [
    "# importing general libraries\n",
    "import numpy as np\n",
    "import pandas as pd\n",
    "import matplotlib.pyplot as plt\n",
    "\n",
    "from sklearn.datasets import make_blobs # for generating dataset"
   ]
  },
  {
   "cell_type": "markdown",
   "metadata": {},
   "source": [
    "Generating **random dataset** with **2 Features**"
   ]
  },
  {
   "cell_type": "code",
   "execution_count": 2,
   "metadata": {
    "scrolled": false
   },
   "outputs": [
    {
     "name": "stdout",
     "output_type": "stream",
     "text": [
      "X shape:  (950, 2)\n"
     ]
    }
   ],
   "source": [
    "X, y = make_blobs(n_samples = 950, centers = 3, n_features = 2, random_state=42, cluster_std = 2.5)\n",
    "print(\"X shape: \", X.shape)"
   ]
  },
  {
   "cell_type": "code",
   "execution_count": null,
   "metadata": {},
   "outputs": [],
   "source": [
    "# # adding some noise points to the dataset\n",
    "# total_noise_points = 50\n",
    "# noise_X = np.random.uniform(low = X[:0].min() * 2, high = X[:1].max() * 2,\n",
    "#                             size= (total_noise_points, 2))\n"
   ]
  },
  {
   "cell_type": "code",
   "execution_count": 108,
   "metadata": {},
   "outputs": [
    {
     "data": {
      "text/html": [
       "<div>\n",
       "<style scoped>\n",
       "    .dataframe tbody tr th:only-of-type {\n",
       "        vertical-align: middle;\n",
       "    }\n",
       "\n",
       "    .dataframe tbody tr th {\n",
       "        vertical-align: top;\n",
       "    }\n",
       "\n",
       "    .dataframe thead th {\n",
       "        text-align: right;\n",
       "    }\n",
       "</style>\n",
       "<table border=\"1\" class=\"dataframe\">\n",
       "  <thead>\n",
       "    <tr style=\"text-align: right;\">\n",
       "      <th></th>\n",
       "      <th>feature_1</th>\n",
       "      <th>feature_2</th>\n",
       "    </tr>\n",
       "  </thead>\n",
       "  <tbody>\n",
       "    <tr>\n",
       "      <th>0</th>\n",
       "      <td>-3.990182</td>\n",
       "      <td>6.854309</td>\n",
       "    </tr>\n",
       "    <tr>\n",
       "      <th>1</th>\n",
       "      <td>8.095276</td>\n",
       "      <td>3.594944</td>\n",
       "    </tr>\n",
       "    <tr>\n",
       "      <th>2</th>\n",
       "      <td>6.171814</td>\n",
       "      <td>-0.660369</td>\n",
       "    </tr>\n",
       "    <tr>\n",
       "      <th>3</th>\n",
       "      <td>-8.688309</td>\n",
       "      <td>7.022048</td>\n",
       "    </tr>\n",
       "    <tr>\n",
       "      <th>4</th>\n",
       "      <td>3.524420</td>\n",
       "      <td>-2.750682</td>\n",
       "    </tr>\n",
       "    <tr>\n",
       "      <th>...</th>\n",
       "      <td>...</td>\n",
       "      <td>...</td>\n",
       "    </tr>\n",
       "    <tr>\n",
       "      <th>945</th>\n",
       "      <td>-6.527906</td>\n",
       "      <td>9.475871</td>\n",
       "    </tr>\n",
       "    <tr>\n",
       "      <th>946</th>\n",
       "      <td>-1.940548</td>\n",
       "      <td>12.282143</td>\n",
       "    </tr>\n",
       "    <tr>\n",
       "      <th>947</th>\n",
       "      <td>-1.784760</td>\n",
       "      <td>14.202788</td>\n",
       "    </tr>\n",
       "    <tr>\n",
       "      <th>948</th>\n",
       "      <td>-7.181998</td>\n",
       "      <td>-5.831278</td>\n",
       "    </tr>\n",
       "    <tr>\n",
       "      <th>949</th>\n",
       "      <td>-0.793547</td>\n",
       "      <td>4.982496</td>\n",
       "    </tr>\n",
       "  </tbody>\n",
       "</table>\n",
       "<p>950 rows × 2 columns</p>\n",
       "</div>"
      ],
      "text/plain": [
       "     feature_1  feature_2\n",
       "0    -3.990182   6.854309\n",
       "1     8.095276   3.594944\n",
       "2     6.171814  -0.660369\n",
       "3    -8.688309   7.022048\n",
       "4     3.524420  -2.750682\n",
       "..         ...        ...\n",
       "945  -6.527906   9.475871\n",
       "946  -1.940548  12.282143\n",
       "947  -1.784760  14.202788\n",
       "948  -7.181998  -5.831278\n",
       "949  -0.793547   4.982496\n",
       "\n",
       "[950 rows x 2 columns]"
      ]
     },
     "execution_count": 108,
     "metadata": {},
     "output_type": "execute_result"
    }
   ],
   "source": [
    "features = [f\"feature_{i+1}\" for i in range (X.shape[1])]\n",
    "# Transforming the nd_array X to a dataframe\n",
    "data = pd.DataFrame(X, columns = features)\n",
    "data"
   ]
  },
  {
   "cell_type": "markdown",
   "metadata": {},
   "source": [
    "**Visualizing** the dataset"
   ]
  },
  {
   "cell_type": "code",
   "execution_count": 4,
   "metadata": {},
   "outputs": [
    {
     "data": {
      "image/png": "[encoded data removed]",
      "text/plain": [
       "<Figure size 432x288 with 1 Axes>"
      ]
     },
     "metadata": {
      "needs_background": "light"
     },
     "output_type": "display_data"
    }
   ],
   "source": [
    "# using scatterplot\n",
    "plt.scatter(x = data['feature_1'], y = data['feature_2'])\n",
    "plt.xlabel(\"Feature_1\")\n",
    "plt.ylabel(\"Feature_2\")\n",
    "plt.show()"
   ]
  },
  {
   "cell_type": "markdown",
   "metadata": {},
   "source": [
    "**Algorithm for DBSCAN**  \n",
    "*Step 1*: Initialize the algorithm by selecting an arbitrary point that has not been visited.  \n",
    "*Step 2*: Retrieve all points in the ε-neighborhood of this point and mark it as visited.  \n",
    "*Step 3*: If this point has a sufficient number of points in its ε-neighborhood, create a cluster starting with this point.  \n",
    "*Step 4*: Expand the cluster by adding all reachable points to the cluster.  \n",
    "*Step 5*: Repeat the process for all unvisited points until all points have been visited.  \n",
    "*Step 6*: The algorithm terminates when all points have been visited and clustered.  "
   ]
  },
  {
   "cell_type": "code",
   "execution_count": 109,
   "metadata": {},
   "outputs": [],
   "source": [
    "temp_data = data.copy(deep = True)"
   ]
  },
  {
   "cell_type": "code",
   "execution_count": 102,
   "metadata": {},
   "outputs": [],
   "source": [
    "def euclidean_distance(pt1, pt2):\n",
    "    distance = 0\n",
    "    for i in range(len(pt1)):\n",
    "        distance += (pt1[i] - pt2[i])**2\n",
    "    return distance**0.5\n",
    "\n",
    "def nextId(cluster_Id):\n",
    "    return cluster_Id + 1\n",
    "\n",
    "def region_Query(data, point, eps):    # returns index of neighbors of a given point \n",
    "    neighbors_index = []\n",
    "    \n",
    "    for i in range(len(data)):\n",
    "        if euclidean_distance(data.iloc[i].values, point) <= eps:\n",
    "            neighbors_index.append(i)\n",
    "    return neighbors_index\n",
    "\n",
    "def assign_cluster_id(temp_data, seeds_index, cluster_Id):   # assigns clusterId to data points\n",
    "    for i in seeds_index:\n",
    "        temp_data['clusterId'][i] = cluster_Id\n",
    "\n",
    "# expand the cluster around a given point\n",
    "def expand_cluster(temp_data, data, index, point, eps, min_pts, cluster_Id):\n",
    "    seeds_index = region_Query(data, point, eps) # we get a list of indexes of neighbors of the 'point'\n",
    "    if len(seeds_index) < min_pts:\n",
    "        temp_data['clusterId'][index] = -1  # we assign the point as noise\n",
    "        return False\n",
    "    else:\n",
    "        assign_cluster_id(temp_data, seeds_index, cluster_Id)  # see the function implemention above\n",
    "        seeds_index.remove(index)\n",
    "        while len(seeds_index) > 0:\n",
    "            current_point_index = seeds_index[0]\n",
    "            sub_seed_index = region_Query(data, data.iloc[current_point_index].values, eps)\n",
    "            if len(sub_seed_index) >= min_pts:\n",
    "                for sub_idx in sub_seed_index:\n",
    "                    if temp_data['clusterId'][sub_idx] == None: # if point is unclassified\n",
    "                        seeds_index.append(sub_idx) # then append it to seed_index\n",
    "                    temp_data['clusterId'][sub_idx] = cluster_Id\n",
    "            seeds_index.remove(current_point_index)\n",
    "        return True\n",
    "\n",
    "def DBSCAN(data, temp_data, eps, min_pts):\n",
    "    cluster_Id = -1\n",
    "    print(data.iloc[0].values)\n",
    "    temp_data['clusterId'] = np.array([None]* len(data))\n",
    "    print(data.iloc[0].values)\n",
    "    for i in range(len(data)):\n",
    "        if temp_data['clusterId'][i] == None:\n",
    "            if expand_cluster(temp_data, data, i, data.iloc[i], eps, min_pts, cluster_Id):\n",
    "                cluster_Id = nextId(cluster_Id)"
   ]
  },
  {
   "cell_type": "code",
   "execution_count": 110,
   "metadata": {},
   "outputs": [
    {
     "name": "stdout",
     "output_type": "stream",
     "text": [
      "[-3.99018243  6.8543092 ]\n",
      "[-3.99018243  6.8543092 ]\n"
     ]
    },
    {
     "name": "stderr",
     "output_type": "stream",
     "text": [
      "<ipython-input-102-138e4fbe178d>:20: SettingWithCopyWarning: \n",
      "A value is trying to be set on a copy of a slice from a DataFrame\n",
      "\n",
      "See the caveats in the documentation: https://pandas.pydata.org/pandas-docs/stable/user_guide/indexing.html#returning-a-view-versus-a-copy\n",
      "  temp_data['clusterId'][i] = cluster_Id\n",
      "<ipython-input-102-138e4fbe178d>:38: SettingWithCopyWarning: \n",
      "A value is trying to be set on a copy of a slice from a DataFrame\n",
      "\n",
      "See the caveats in the documentation: https://pandas.pydata.org/pandas-docs/stable/user_guide/indexing.html#returning-a-view-versus-a-copy\n",
      "  temp_data['clusterId'][sub_idx] = cluster_Id\n",
      "<ipython-input-102-138e4fbe178d>:26: SettingWithCopyWarning: \n",
      "A value is trying to be set on a copy of a slice from a DataFrame\n",
      "\n",
      "See the caveats in the documentation: https://pandas.pydata.org/pandas-docs/stable/user_guide/indexing.html#returning-a-view-versus-a-copy\n",
      "  temp_data['clusterId'][index] = -1  # we assign the point as noise\n"
     ]
    }
   ],
   "source": [
    "DBSCAN(data, temp_data, 1.5, 2)"
   ]
  },
  {
   "cell_type": "code",
   "execution_count": 113,
   "metadata": {},
   "outputs": [
    {
     "data": {
      "text/plain": [
       "array([-1, 0, 1, 2], dtype=object)"
      ]
     },
     "execution_count": 113,
     "metadata": {},
     "output_type": "execute_result"
    }
   ],
   "source": [
    "temp_data['clusterId'].unique()"
   ]
  },
  {
   "cell_type": "code",
   "execution_count": 111,
   "metadata": {},
   "outputs": [
    {
     "data": {
      "text/html": [
       "<div>\n",
       "<style scoped>\n",
       "    .dataframe tbody tr th:only-of-type {\n",
       "        vertical-align: middle;\n",
       "    }\n",
       "\n",
       "    .dataframe tbody tr th {\n",
       "        vertical-align: top;\n",
       "    }\n",
       "\n",
       "    .dataframe thead th {\n",
       "        text-align: right;\n",
       "    }\n",
       "</style>\n",
       "<table border=\"1\" class=\"dataframe\">\n",
       "  <thead>\n",
       "    <tr style=\"text-align: right;\">\n",
       "      <th></th>\n",
       "      <th>feature_1</th>\n",
       "      <th>feature_2</th>\n",
       "      <th>clusterId</th>\n",
       "    </tr>\n",
       "  </thead>\n",
       "  <tbody>\n",
       "    <tr>\n",
       "      <th>0</th>\n",
       "      <td>-3.990182</td>\n",
       "      <td>6.854309</td>\n",
       "      <td>-1</td>\n",
       "    </tr>\n",
       "    <tr>\n",
       "      <th>1</th>\n",
       "      <td>8.095276</td>\n",
       "      <td>3.594944</td>\n",
       "      <td>-1</td>\n",
       "    </tr>\n",
       "    <tr>\n",
       "      <th>2</th>\n",
       "      <td>6.171814</td>\n",
       "      <td>-0.660369</td>\n",
       "      <td>-1</td>\n",
       "    </tr>\n",
       "    <tr>\n",
       "      <th>3</th>\n",
       "      <td>-8.688309</td>\n",
       "      <td>7.022048</td>\n",
       "      <td>-1</td>\n",
       "    </tr>\n",
       "    <tr>\n",
       "      <th>4</th>\n",
       "      <td>3.524420</td>\n",
       "      <td>-2.750682</td>\n",
       "      <td>-1</td>\n",
       "    </tr>\n",
       "    <tr>\n",
       "      <th>...</th>\n",
       "      <td>...</td>\n",
       "      <td>...</td>\n",
       "      <td>...</td>\n",
       "    </tr>\n",
       "    <tr>\n",
       "      <th>945</th>\n",
       "      <td>-6.527906</td>\n",
       "      <td>9.475871</td>\n",
       "      <td>-1</td>\n",
       "    </tr>\n",
       "    <tr>\n",
       "      <th>946</th>\n",
       "      <td>-1.940548</td>\n",
       "      <td>12.282143</td>\n",
       "      <td>-1</td>\n",
       "    </tr>\n",
       "    <tr>\n",
       "      <th>947</th>\n",
       "      <td>-1.784760</td>\n",
       "      <td>14.202788</td>\n",
       "      <td>-1</td>\n",
       "    </tr>\n",
       "    <tr>\n",
       "      <th>948</th>\n",
       "      <td>-7.181998</td>\n",
       "      <td>-5.831278</td>\n",
       "      <td>0</td>\n",
       "    </tr>\n",
       "    <tr>\n",
       "      <th>949</th>\n",
       "      <td>-0.793547</td>\n",
       "      <td>4.982496</td>\n",
       "      <td>-1</td>\n",
       "    </tr>\n",
       "  </tbody>\n",
       "</table>\n",
       "<p>950 rows × 3 columns</p>\n",
       "</div>"
      ],
      "text/plain": [
       "     feature_1  feature_2 clusterId\n",
       "0    -3.990182   6.854309        -1\n",
       "1     8.095276   3.594944        -1\n",
       "2     6.171814  -0.660369        -1\n",
       "3    -8.688309   7.022048        -1\n",
       "4     3.524420  -2.750682        -1\n",
       "..         ...        ...       ...\n",
       "945  -6.527906   9.475871        -1\n",
       "946  -1.940548  12.282143        -1\n",
       "947  -1.784760  14.202788        -1\n",
       "948  -7.181998  -5.831278         0\n",
       "949  -0.793547   4.982496        -1\n",
       "\n",
       "[950 rows x 3 columns]"
      ]
     },
     "execution_count": 111,
     "metadata": {},
     "output_type": "execute_result"
    }
   ],
   "source": [
    "temp_data"
   ]
  },
  {
   "cell_type": "code",
   "execution_count": 112,
   "metadata": {},
   "outputs": [
    {
     "data": {
      "text/plain": [
       "<matplotlib.collections.PathCollection at 0x2976b9efc40>"
      ]
     },
     "execution_count": 112,
     "metadata": {},
     "output_type": "execute_result"
    },
    {
     "data": {
      "image/png": "[encoded data removed]",
      "text/plain": [
       "<Figure size 432x288 with 1 Axes>"
      ]
     },
     "metadata": {
      "needs_background": "light"
     },
     "output_type": "display_data"
    }
   ],
   "source": [
    "plt.scatter(x=data['feature_1'], y = data['feature_2'], c = temp_data['clusterId'])"
   ]
  },
  {
   "cell_type": "code",
   "execution_count": null,
   "metadata": {},
   "outputs": [],
   "source": []
  }
 ],
 "metadata": {
  "kernelspec": {
   "display_name": "Python 3",
   "language": "python",
   "name": "python3"
  },
  "language_info": {
   "codemirror_mode": {
    "name": "ipython",
    "version": 3
   },
   "file_extension": ".py",
   "mimetype": "text/x-python",
   "name": "python",
   "nbconvert_exporter": "python",
   "pygments_lexer": "ipython3",
   "version": "3.8.5"
  }
 },
 "nbformat": 4,
 "nbformat_minor": 4
}
